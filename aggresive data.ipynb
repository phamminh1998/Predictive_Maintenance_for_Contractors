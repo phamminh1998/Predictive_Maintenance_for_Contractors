{
  "cells": [
    {
      "cell_type": "markdown",
      "metadata": {
        "id": "BHDVrV5o3ArQ"
      },
      "source": [
        "# Rudimentary cleaning and prep"
      ]
    },
    {
      "cell_type": "markdown",
      "metadata": {
        "id": "OQFC8LTcB5gc"
      },
      "source": [
        "## Mounting drive, installing and importing tools"
      ]
    },
    {
      "cell_type": "code",
      "execution_count": 5,
      "metadata": {
        "colab": {
          "base_uri": "https://localhost:8080/"
        },
        "id": "CAaw_c5P3LNF",
        "metadata": {},
        "outputId": "2bedbd35-519e-4729-c4c7-fe2e643e7eab"
      },
      "outputs": [
        {
          "name": "stdout",
          "output_type": "stream",
          "text": [
            "Requirement already satisfied: pandas in ./.venv/lib/python3.12/site-packages (2.2.2)\n",
            "Requirement already satisfied: spacy in ./.venv/lib/python3.12/site-packages (3.7.4)\n",
            "Requirement already satisfied: wordcloud in ./.venv/lib/python3.12/site-packages (1.9.3)\n",
            "Requirement already satisfied: numpy in ./.venv/lib/python3.12/site-packages (1.26.4)\n",
            "Requirement already satisfied: openpyxl in ./.venv/lib/python3.12/site-packages (3.1.2)\n",
            "Requirement already satisfied: pyarrow in ./.venv/lib/python3.12/site-packages (16.1.0)\n",
            "Requirement already satisfied: python-dateutil>=2.8.2 in ./.venv/lib/python3.12/site-packages (from pandas) (2.9.0.post0)\n",
            "Requirement already satisfied: pytz>=2020.1 in ./.venv/lib/python3.12/site-packages (from pandas) (2024.1)\n",
            "Requirement already satisfied: tzdata>=2022.7 in ./.venv/lib/python3.12/site-packages (from pandas) (2024.1)\n",
            "Requirement already satisfied: spacy-legacy<3.1.0,>=3.0.11 in ./.venv/lib/python3.12/site-packages (from spacy) (3.0.12)\n",
            "Requirement already satisfied: spacy-loggers<2.0.0,>=1.0.0 in ./.venv/lib/python3.12/site-packages (from spacy) (1.0.5)\n",
            "Requirement already satisfied: murmurhash<1.1.0,>=0.28.0 in ./.venv/lib/python3.12/site-packages (from spacy) (1.0.10)\n",
            "Requirement already satisfied: cymem<2.1.0,>=2.0.2 in ./.venv/lib/python3.12/site-packages (from spacy) (2.0.8)\n",
            "Requirement already satisfied: preshed<3.1.0,>=3.0.2 in ./.venv/lib/python3.12/site-packages (from spacy) (3.0.9)\n",
            "Requirement already satisfied: thinc<8.3.0,>=8.2.2 in ./.venv/lib/python3.12/site-packages (from spacy) (8.2.3)\n",
            "Requirement already satisfied: wasabi<1.2.0,>=0.9.1 in ./.venv/lib/python3.12/site-packages (from spacy) (1.1.2)\n",
            "Requirement already satisfied: srsly<3.0.0,>=2.4.3 in ./.venv/lib/python3.12/site-packages (from spacy) (2.4.8)\n",
            "Requirement already satisfied: catalogue<2.1.0,>=2.0.6 in ./.venv/lib/python3.12/site-packages (from spacy) (2.0.10)\n",
            "Requirement already satisfied: weasel<0.4.0,>=0.1.0 in ./.venv/lib/python3.12/site-packages (from spacy) (0.3.4)\n",
            "Requirement already satisfied: typer<0.10.0,>=0.3.0 in ./.venv/lib/python3.12/site-packages (from spacy) (0.9.4)\n",
            "Requirement already satisfied: smart-open<7.0.0,>=5.2.1 in ./.venv/lib/python3.12/site-packages (from spacy) (6.4.0)\n",
            "Requirement already satisfied: tqdm<5.0.0,>=4.38.0 in ./.venv/lib/python3.12/site-packages (from spacy) (4.66.4)\n",
            "Requirement already satisfied: requests<3.0.0,>=2.13.0 in ./.venv/lib/python3.12/site-packages (from spacy) (2.31.0)\n",
            "Requirement already satisfied: pydantic!=1.8,!=1.8.1,<3.0.0,>=1.7.4 in ./.venv/lib/python3.12/site-packages (from spacy) (2.7.1)\n",
            "Requirement already satisfied: jinja2 in ./.venv/lib/python3.12/site-packages (from spacy) (3.1.4)\n",
            "Requirement already satisfied: setuptools in ./.venv/lib/python3.12/site-packages (from spacy) (69.5.1)\n",
            "Requirement already satisfied: packaging>=20.0 in ./.venv/lib/python3.12/site-packages (from spacy) (24.0)\n",
            "Requirement already satisfied: langcodes<4.0.0,>=3.2.0 in ./.venv/lib/python3.12/site-packages (from spacy) (3.4.0)\n",
            "Requirement already satisfied: pillow in ./.venv/lib/python3.12/site-packages (from wordcloud) (10.3.0)\n",
            "Requirement already satisfied: matplotlib in ./.venv/lib/python3.12/site-packages (from wordcloud) (3.9.0)\n",
            "Requirement already satisfied: et-xmlfile in ./.venv/lib/python3.12/site-packages (from openpyxl) (1.1.0)\n",
            "Requirement already satisfied: language-data>=1.2 in ./.venv/lib/python3.12/site-packages (from langcodes<4.0.0,>=3.2.0->spacy) (1.2.0)\n",
            "Requirement already satisfied: annotated-types>=0.4.0 in ./.venv/lib/python3.12/site-packages (from pydantic!=1.8,!=1.8.1,<3.0.0,>=1.7.4->spacy) (0.6.0)\n",
            "Requirement already satisfied: pydantic-core==2.18.2 in ./.venv/lib/python3.12/site-packages (from pydantic!=1.8,!=1.8.1,<3.0.0,>=1.7.4->spacy) (2.18.2)\n",
            "Requirement already satisfied: typing-extensions>=4.6.1 in ./.venv/lib/python3.12/site-packages (from pydantic!=1.8,!=1.8.1,<3.0.0,>=1.7.4->spacy) (4.11.0)\n",
            "Requirement already satisfied: six>=1.5 in ./.venv/lib/python3.12/site-packages (from python-dateutil>=2.8.2->pandas) (1.16.0)\n",
            "Requirement already satisfied: charset-normalizer<4,>=2 in ./.venv/lib/python3.12/site-packages (from requests<3.0.0,>=2.13.0->spacy) (3.3.2)\n",
            "Requirement already satisfied: idna<4,>=2.5 in ./.venv/lib/python3.12/site-packages (from requests<3.0.0,>=2.13.0->spacy) (3.7)\n",
            "Requirement already satisfied: urllib3<3,>=1.21.1 in ./.venv/lib/python3.12/site-packages (from requests<3.0.0,>=2.13.0->spacy) (2.2.1)\n",
            "Requirement already satisfied: certifi>=2017.4.17 in ./.venv/lib/python3.12/site-packages (from requests<3.0.0,>=2.13.0->spacy) (2024.2.2)\n",
            "Requirement already satisfied: blis<0.8.0,>=0.7.8 in ./.venv/lib/python3.12/site-packages (from thinc<8.3.0,>=8.2.2->spacy) (0.7.11)\n",
            "Requirement already satisfied: confection<1.0.0,>=0.0.1 in ./.venv/lib/python3.12/site-packages (from thinc<8.3.0,>=8.2.2->spacy) (0.1.4)\n",
            "Requirement already satisfied: click<9.0.0,>=7.1.1 in ./.venv/lib/python3.12/site-packages (from typer<0.10.0,>=0.3.0->spacy) (8.1.7)\n",
            "Requirement already satisfied: cloudpathlib<0.17.0,>=0.7.0 in ./.venv/lib/python3.12/site-packages (from weasel<0.4.0,>=0.1.0->spacy) (0.16.0)\n",
            "Requirement already satisfied: MarkupSafe>=2.0 in ./.venv/lib/python3.12/site-packages (from jinja2->spacy) (2.1.5)\n",
            "Requirement already satisfied: contourpy>=1.0.1 in ./.venv/lib/python3.12/site-packages (from matplotlib->wordcloud) (1.2.1)\n",
            "Requirement already satisfied: cycler>=0.10 in ./.venv/lib/python3.12/site-packages (from matplotlib->wordcloud) (0.12.1)\n",
            "Requirement already satisfied: fonttools>=4.22.0 in ./.venv/lib/python3.12/site-packages (from matplotlib->wordcloud) (4.51.0)\n",
            "Requirement already satisfied: kiwisolver>=1.3.1 in ./.venv/lib/python3.12/site-packages (from matplotlib->wordcloud) (1.4.5)\n",
            "Requirement already satisfied: pyparsing>=2.3.1 in ./.venv/lib/python3.12/site-packages (from matplotlib->wordcloud) (3.1.2)\n",
            "Requirement already satisfied: marisa-trie>=0.7.7 in ./.venv/lib/python3.12/site-packages (from language-data>=1.2->langcodes<4.0.0,>=3.2.0->spacy) (1.1.1)\n",
            "Note: you may need to restart the kernel to use updated packages.\n"
          ]
        }
      ],
      "source": [
        "%pip install pandas spacy wordcloud numpy openpyxl pyarrow"
      ]
    },
    {
      "cell_type": "code",
      "execution_count": 6,
      "metadata": {
        "id": "oZxcAGXF4Rpl",
        "metadata": {}
      },
      "outputs": [],
      "source": [
        "import pandas as pd\n",
        "import numpy as np\n",
        "import wordcloud as wc\n",
        "import spacy"
      ]
    },
    {
      "cell_type": "markdown",
      "metadata": {
        "id": "zRcrMl0R5hxs"
      },
      "source": [
        "## Getting each initial excel file as a df"
      ]
    },
    {
      "cell_type": "code",
      "execution_count": 10,
      "metadata": {
        "id": "s7lcLLPB4h3v",
        "metadata": {}
      },
      "outputs": [],
      "source": [
        "#Adressen BOH Wonen Zuid\n",
        "file_path = './data/Adressen BOH Wonen Zuid.xlsx'  # Update this to your file's path\n",
        "df_adressen = pd.read_excel(file_path, engine='openpyxl')  # Use 'xlrd' if your file is .xls\n",
        "#Data Volta foutcode 2010 2011 2012 2013 2014\n",
        "file_path = './data/Data Volta foutcode 2010 2011 2012 2013 2014.xlsx'  # Update this to your file's path\n",
        "df_foutcode2010to2014 = pd.read_excel(file_path, engine='openpyxl')  # Use 'xlrd' if your file is .xls\n",
        "#Data Volta foutcode 2015 2016 2017 2018 2019\n",
        "file_path = './data/Data Volta foutcode 2015 2016 2017 2018 2019.xlsx'  # Update this to your file's path\n",
        "df_foutcode2015to2019= pd.read_excel(file_path, engine='openpyxl')  # Use 'xlrd' if your file is .xls\n",
        "#Data Volta foutcode 2020 2021 2022 2023\n",
        "file_path = './data/Data Volta foutcode 2020 2021 2022 2023.xlsx'  # Update this to your file's path\n",
        "df_foutcode2020to2023 = pd.read_excel(file_path, engine='openpyxl')  # Use 'xlrd' if your file is .xls\n",
        "#Data Volta Foutcode omschrijving\n",
        "file_path = './data/Data Volta Foutcode omschrijving.xlsx'  # Update this to your file's path\n",
        "df_foutcode_omschrijving = pd.read_excel(file_path, engine='openpyxl')  # Use 'xlrd' if your file is .xls\n",
        "#Data Volta gebruikte materialen 2010 2011 2012 2013 2014\n",
        "file_path = './data/Data Volta gebruikte materialen 2010 2011 2012 2013 2014.xlsx'  # Update this to your file's path\n",
        "df_usedmat2010to2014 = pd.read_excel(file_path, engine='openpyxl')  # Use 'xlrd' if your file is .xls\n",
        "#Data Volta gebruikte materialen 2015 2016 2017 2018 2019\n",
        "file_path = './data/Data Volta gebruikte materialen 2015 2016 2017 2018 2019.xlsx'  # Update this to your file's path\n",
        "df_usedmat2015to2019 = pd.read_excel(file_path, engine='openpyxl')  # Use 'xlrd' if your file is .xls\n",
        "#Data Volta gebruikte materialen 2020 2021 2022 2023\n",
        "file_path = './data/Data Volta gebruikte materialen 2020 2021 2022 2023.xlsx'  # Update this to your file's path\n",
        "df_usedmat2020to2023 = pd.read_excel(file_path, engine='openpyxl')  # Use 'xlrd' if your file is .xls\n",
        "#Data Volta Monteursbezoeken\n",
        "file_path = './data/Data Volta Monteursbezoeken.xlsx'  # Update this to your file's path\n",
        "df_monteursbezoeken = pd.read_excel(file_path, engine='openpyxl')  # Use 'xlrd' if your file is .xls\n",
        "#Data Volta toestellen onder contract\n",
        "file_path = './data/Data Volta toestellen onder contract.xlsx'  # Update this to your file's path\n",
        "df_toestellen = pd.read_excel(file_path, engine='openpyxl')  # Use 'xlrd' if your file is .xls"
      ]
    },
    {
      "cell_type": "markdown",
      "metadata": {
        "id": "p9gPCUWQ8alc"
      },
      "source": [
        "**Above are the initial, unadultered datasets provided by Volta.**\n",
        "\n",
        "We might want to stitch some of them together, we definitely want to clean and prep them. To save them after cleaning, remember to save it to a new csv,xls, or pckl and give it a new name to indicate what it is.\n",
        "\n",
        "**We can decide the naming scheme here: name_cleaned_version.filetype**\n",
        "\n",
        "Cleaning, prep, stitching goes in their own following sections"
      ]
    },
    {
      "cell_type": "markdown",
      "metadata": {},
      "source": [
        "# Cleaning individual files"
      ]
    },
    {
      "cell_type": "markdown",
      "metadata": {
        "id": "GCWcOM9y3HOI"
      },
      "source": [
        "## For Adressen BOH Wonen Zuid\n"
      ]
    },
    {
      "cell_type": "code",
      "execution_count": null,
      "metadata": {
        "colab": {
          "base_uri": "https://localhost:8080/"
        },
        "id": "ecADqH0FEOno",
        "outputId": "a858af13-a8c7-477a-b67c-b01f340cd329"
      },
      "outputs": [],
      "source": [
        "print(df_adressen.columns)\n"
      ]
    },
    {
      "cell_type": "code",
      "execution_count": 12,
      "metadata": {
        "id": "_W5Jn55pDEZU",
        "metadata": {}
      },
      "outputs": [],
      "source": [
        "#cleaning and prep goes here\n",
        "df_adressen.dropna(inplace=True)  # Drop rows with NaNs\n",
        "df_adressen.rename(columns={'toestelfabrikant': 'manu',\n",
        "                            'toestel': 'device',\n",
        "                            'call_base_naam': 'call_name',\n",
        "                            'call_base_adres': 'call_address',\n",
        "                            'call_base_postcode': 'call_postcode',\n",
        "                            'call_base_plaats': 'call_city',\n",
        "                            'call_base_huisnr': 'call_housenr',\n",
        "                            'ComplexNr': 'ComplexNr',\n",
        "                            'Datum_Uitgevoerd_OH': 'date_of_service',\n",
        "                            'Unnamed: 9': 'RemoteCheck',\n",
        "                            'Unnamed: 10': 'MaintenanceCheck'}, inplace=True)\n",
        "#RemoteCheck named because the only things present in column are \"beheer op afstand\" and \"referentieadres, geen beheer op afstand\", which means remote management and reference address, no remote management\n",
        "#MaintenanceCheck because the only things present in column are \"bij start geen onderhoud uitgevoerd\" and \"bij start onderhoud uitgevoerd\" which mean maintenance carried out at start and no maintenance performed at start\n",
        "#we could make these two columns be binary if we want.\n",
        "df_adressen.drop(['manu'], axis=1, inplace=True)"
      ]
    },
    {
      "cell_type": "code",
      "execution_count": null,
      "metadata": {
        "colab": {
          "base_uri": "https://localhost:8080/",
          "height": 588
        },
        "id": "xQFUIqBCG_9t",
        "outputId": "ee440314-e86c-4315-c532-f38534ea04fa"
      },
      "outputs": [],
      "source": [
        "#checking it's cleaned\n",
        "df_adressen.info()\n",
        "df_adressen.head()"
      ]
    },
    {
      "cell_type": "code",
      "execution_count": 13,
      "metadata": {
        "id": "HNxKdbMCQfJQ",
        "metadata": {}
      },
      "outputs": [],
      "source": [
        "# Convert 'call_housenr' and 'ComplexNr' from float to int\n",
        "df_adressen['call_housenr'] = df_adressen['call_housenr'].astype(int)\n",
        "df_adressen['ComplexNr'] = df_adressen['ComplexNr'].astype(int)\n",
        "\n",
        "# Convert to categorical\n",
        "df_adressen['RemoteCheck'] = df_adressen['RemoteCheck'].astype('category')\n",
        "df_adressen['MaintenanceCheck'] = df_adressen['MaintenanceCheck'].astype('category')\n",
        "\n",
        "# Check for duplicates\n",
        "df_adressen = df_adressen.drop_duplicates()\n",
        "\n",
        "# Standardize textual data (example for one column)\n",
        "df_adressen['call_city'] = df_adressen['call_city'].str.upper().str.strip()\n",
        "\n",
        "#new cleaned df\n",
        "df_adressen_cleaned = df_adressen\n"
      ]
    },
    {
      "cell_type": "code",
      "execution_count": 14,
      "metadata": {
        "colab": {
          "base_uri": "https://localhost:8080/",
          "height": 1000
        },
        "id": "r-TPhY7R9sJw",
        "metadata": {},
        "outputId": "1388a36b-78a7-4747-da98-c9c8ab0fdcfa"
      },
      "outputs": [
        {
          "data": {
            "text/html": [
              "<div>\n",
              "<style scoped>\n",
              "    .dataframe tbody tr th:only-of-type {\n",
              "        vertical-align: middle;\n",
              "    }\n",
              "\n",
              "    .dataframe tbody tr th {\n",
              "        vertical-align: top;\n",
              "    }\n",
              "\n",
              "    .dataframe thead th {\n",
              "        text-align: right;\n",
              "    }\n",
              "</style>\n",
              "<table border=\"1\" class=\"dataframe\">\n",
              "  <thead>\n",
              "    <tr style=\"text-align: right;\">\n",
              "      <th></th>\n",
              "      <th>device</th>\n",
              "      <th>call_name</th>\n",
              "      <th>call_address</th>\n",
              "      <th>call_postcode</th>\n",
              "      <th>call_city</th>\n",
              "      <th>call_housenr</th>\n",
              "      <th>ComplexNr</th>\n",
              "      <th>date_of_service</th>\n",
              "      <th>RemoteCheck</th>\n",
              "      <th>MaintenanceCheck</th>\n",
              "    </tr>\n",
              "  </thead>\n",
              "  <tbody>\n",
              "    <tr>\n",
              "      <th>1</th>\n",
              "      <td>AVANTA ACE HR COMBI KETEL 28C CW4 80/80       ...</td>\n",
              "      <td>WONEN ZUID REGIO VALKENBURG</td>\n",
              "      <td>VAN PALLANDTLAAN 35</td>\n",
              "      <td>6301 TN</td>\n",
              "      <td>VALKENBURG LB</td>\n",
              "      <td>35</td>\n",
              "      <td>340520</td>\n",
              "      <td>2022-03-24</td>\n",
              "      <td>beheer op afstand</td>\n",
              "      <td>bij start onderhoud uitgevoerd</td>\n",
              "    </tr>\n",
              "    <tr>\n",
              "      <th>2</th>\n",
              "      <td>AVANTA ACE HR COMBI KETEL 24C CW3 80/80       ...</td>\n",
              "      <td>WONEN ZUID REGIO VALKENBURG</td>\n",
              "      <td>VAN PALLANDTLAAN 27</td>\n",
              "      <td>6301 TN</td>\n",
              "      <td>VALKENBURG LB</td>\n",
              "      <td>27</td>\n",
              "      <td>340520</td>\n",
              "      <td>2023-03-22</td>\n",
              "      <td>beheer op afstand</td>\n",
              "      <td>bij start onderhoud uitgevoerd</td>\n",
              "    </tr>\n",
              "    <tr>\n",
              "      <th>3</th>\n",
              "      <td>AVANTA ACE HR COMBI KETEL 24C CW3 80/80       ...</td>\n",
              "      <td>WONEN ZUID REGIO VALKENBURG</td>\n",
              "      <td>VAN PALLANDTLAAN 29</td>\n",
              "      <td>6301 TN</td>\n",
              "      <td>VALKENBURG LB</td>\n",
              "      <td>29</td>\n",
              "      <td>340520</td>\n",
              "      <td>2023-03-16</td>\n",
              "      <td>beheer op afstand</td>\n",
              "      <td>bij start onderhoud uitgevoerd</td>\n",
              "    </tr>\n",
              "    <tr>\n",
              "      <th>4</th>\n",
              "      <td>AVANTA ACE HR COMBI KETEL 24C CW3 80/80       ...</td>\n",
              "      <td>WONEN ZUID REGIO VALKENBURG</td>\n",
              "      <td>VAN PALLANDTLAAN 25</td>\n",
              "      <td>6301 TN</td>\n",
              "      <td>VALKENBURG LB</td>\n",
              "      <td>25</td>\n",
              "      <td>340520</td>\n",
              "      <td>2023-03-22</td>\n",
              "      <td>beheer op afstand</td>\n",
              "      <td>bij start onderhoud uitgevoerd</td>\n",
              "    </tr>\n",
              "    <tr>\n",
              "      <th>5</th>\n",
              "      <td>AVANTA ACE HR COMBI KETEL 24C CW3 80/80       ...</td>\n",
              "      <td>W.M.G VAN DEN NIEUWENDIJK</td>\n",
              "      <td>VAN PALLANDTLAAN 33</td>\n",
              "      <td>6301 TN</td>\n",
              "      <td>VALKENBURG LB</td>\n",
              "      <td>33</td>\n",
              "      <td>340520</td>\n",
              "      <td>2023-03-21</td>\n",
              "      <td>beheer op afstand</td>\n",
              "      <td>bij start onderhoud uitgevoerd</td>\n",
              "    </tr>\n",
              "    <tr>\n",
              "      <th>6</th>\n",
              "      <td>AVANTA ACE HR COMBI KETEL 28C CW4 80/80       ...</td>\n",
              "      <td>WONEN ZUID REGIO VALKENBURG</td>\n",
              "      <td>BERKELPLEIN 38</td>\n",
              "      <td>6301 ZE</td>\n",
              "      <td>VALKENBURG LB</td>\n",
              "      <td>38</td>\n",
              "      <td>340616</td>\n",
              "      <td>2022-11-10</td>\n",
              "      <td>beheer op afstand</td>\n",
              "      <td>bij start onderhoud uitgevoerd</td>\n",
              "    </tr>\n",
              "    <tr>\n",
              "      <th>7</th>\n",
              "      <td>AVANTA ACE HR COMBI KETEL 28C CW4 80/80       ...</td>\n",
              "      <td>WONEN ZUID REGIO VALKENBURG</td>\n",
              "      <td>PRINS WILLEM ALEXANDERLAAN 41</td>\n",
              "      <td>6301 TR</td>\n",
              "      <td>VALKENBURG LB</td>\n",
              "      <td>41</td>\n",
              "      <td>340519</td>\n",
              "      <td>2022-04-14</td>\n",
              "      <td>beheer op afstand</td>\n",
              "      <td>bij start onderhoud uitgevoerd</td>\n",
              "    </tr>\n",
              "    <tr>\n",
              "      <th>8</th>\n",
              "      <td>AVANTA ACE HR COMBI KETEL 24C CW3 80/80       ...</td>\n",
              "      <td>WONEN ZUID REGIO VALKENBURG</td>\n",
              "      <td>PR.W.ALEXANDERLAAN 58</td>\n",
              "      <td>6301 TZ</td>\n",
              "      <td>VALKENBURG LB</td>\n",
              "      <td>58</td>\n",
              "      <td>340520</td>\n",
              "      <td>2023-01-16</td>\n",
              "      <td>beheer op afstand</td>\n",
              "      <td>bij start onderhoud uitgevoerd</td>\n",
              "    </tr>\n",
              "    <tr>\n",
              "      <th>9</th>\n",
              "      <td>AVANTA ACE HR COMBI KETEL 24C CW3 80/80       ...</td>\n",
              "      <td>WONEN ZUID REGIO VALKENBURG</td>\n",
              "      <td>VAN HEINSBERGLAAN 14</td>\n",
              "      <td>6301 VJ</td>\n",
              "      <td>VALKENBURG LB</td>\n",
              "      <td>14</td>\n",
              "      <td>340519</td>\n",
              "      <td>2022-03-01</td>\n",
              "      <td>beheer op afstand</td>\n",
              "      <td>bij start geen onderhoud uitgevoerd</td>\n",
              "    </tr>\n",
              "    <tr>\n",
              "      <th>10</th>\n",
              "      <td>AVANTA ACE HR COMBI KETEL 28C CW4 80/80       ...</td>\n",
              "      <td>WONEN ZUID REGIO VALKENBURG</td>\n",
              "      <td>BERKELPLEIN 200</td>\n",
              "      <td>6301 ZK</td>\n",
              "      <td>VALKENBURG LB</td>\n",
              "      <td>200</td>\n",
              "      <td>340616</td>\n",
              "      <td>2022-03-24</td>\n",
              "      <td>beheer op afstand</td>\n",
              "      <td>bij start geen onderhoud uitgevoerd</td>\n",
              "    </tr>\n",
              "    <tr>\n",
              "      <th>11</th>\n",
              "      <td>AVANTA ACE HR COMBI KETEL 24C CW3 80/80       ...</td>\n",
              "      <td>WONEN ZUID REGIO VALKENBURG</td>\n",
              "      <td>PRINSES IRENELAAN 1</td>\n",
              "      <td>6301 VR</td>\n",
              "      <td>VALKENBURG LB</td>\n",
              "      <td>1</td>\n",
              "      <td>340520</td>\n",
              "      <td>2023-01-17</td>\n",
              "      <td>beheer op afstand</td>\n",
              "      <td>bij start geen onderhoud uitgevoerd</td>\n",
              "    </tr>\n",
              "    <tr>\n",
              "      <th>12</th>\n",
              "      <td>AVANTA ACE HR COMBI KETEL 24C CW3 80/80       ...</td>\n",
              "      <td>WONEN ZUID</td>\n",
              "      <td>PRINSES IRENELAAN 9</td>\n",
              "      <td>6301 VR</td>\n",
              "      <td>VALKENBURG LB</td>\n",
              "      <td>9</td>\n",
              "      <td>340520</td>\n",
              "      <td>2022-12-28</td>\n",
              "      <td>beheer op afstand</td>\n",
              "      <td>bij start geen onderhoud uitgevoerd</td>\n",
              "    </tr>\n",
              "    <tr>\n",
              "      <th>13</th>\n",
              "      <td>AVANTA ACE HR COMBI KETEL 28C CW4 80/80       ...</td>\n",
              "      <td>WONEN ZUID REGIO VALKENBURG</td>\n",
              "      <td>PRINSES IRENELAAN 7</td>\n",
              "      <td>6301 VR</td>\n",
              "      <td>VALKENBURG LB</td>\n",
              "      <td>7</td>\n",
              "      <td>340520</td>\n",
              "      <td>2022-11-16</td>\n",
              "      <td>beheer op afstand</td>\n",
              "      <td>bij start geen onderhoud uitgevoerd</td>\n",
              "    </tr>\n",
              "    <tr>\n",
              "      <th>14</th>\n",
              "      <td>AVANTA ACE HR COMBI KETEL 24C CW3 80/80       ...</td>\n",
              "      <td>WONEN ZUID REGIO VALKENBURG</td>\n",
              "      <td>PRINS WILLEM ALEXANDERLAAN 44</td>\n",
              "      <td>6301 TZ</td>\n",
              "      <td>VALKENBURG LB</td>\n",
              "      <td>44</td>\n",
              "      <td>340520</td>\n",
              "      <td>2022-12-19</td>\n",
              "      <td>beheer op afstand</td>\n",
              "      <td>bij start geen onderhoud uitgevoerd</td>\n",
              "    </tr>\n",
              "    <tr>\n",
              "      <th>15</th>\n",
              "      <td>AVANTA ACE HR COMBI KETEL 24C CW3 80/80       ...</td>\n",
              "      <td>WONEN ZUID REGIO VALKENBURG</td>\n",
              "      <td>PR.W.ALEXANDERLAAN 46</td>\n",
              "      <td>6301 TZ</td>\n",
              "      <td>VALKENBURG LB</td>\n",
              "      <td>46</td>\n",
              "      <td>340520</td>\n",
              "      <td>2023-01-13</td>\n",
              "      <td>beheer op afstand</td>\n",
              "      <td>bij start geen onderhoud uitgevoerd</td>\n",
              "    </tr>\n",
              "    <tr>\n",
              "      <th>16</th>\n",
              "      <td>AVANTA ACE HR COMBI KETEL 28C CW4 80/80       ...</td>\n",
              "      <td>WONEN ZUID REGIO VALKENBURG</td>\n",
              "      <td>PRINSES CHRISTINALAAN 13</td>\n",
              "      <td>6301 VV</td>\n",
              "      <td>VALKENBURG LB</td>\n",
              "      <td>13</td>\n",
              "      <td>340519</td>\n",
              "      <td>2022-06-02</td>\n",
              "      <td>beheer op afstand</td>\n",
              "      <td>bij start geen onderhoud uitgevoerd</td>\n",
              "    </tr>\n",
              "    <tr>\n",
              "      <th>17</th>\n",
              "      <td>AVANTA ACE HR COMBI KETEL 28C CW4 80/80       ...</td>\n",
              "      <td>WONEN ZUID REGIO VALKENBURG</td>\n",
              "      <td>BECKERSWEI 21</td>\n",
              "      <td>6301 AX</td>\n",
              "      <td>VALKENBURG LB</td>\n",
              "      <td>21</td>\n",
              "      <td>340223</td>\n",
              "      <td>2022-11-02</td>\n",
              "      <td>referentieadres, geen beheer op afstand</td>\n",
              "      <td>bij start onderhoud uitgevoerd</td>\n",
              "    </tr>\n",
              "    <tr>\n",
              "      <th>18</th>\n",
              "      <td>AVANTA ACE HR COMBI KETEL 28C CW4 80/80       ...</td>\n",
              "      <td>WONEN ZUID REGIO VALKENBURG</td>\n",
              "      <td>BECKERSWEI 59</td>\n",
              "      <td>6301 AX</td>\n",
              "      <td>VALKENBURG LB</td>\n",
              "      <td>59</td>\n",
              "      <td>340210</td>\n",
              "      <td>2022-06-03</td>\n",
              "      <td>referentieadres, geen beheer op afstand</td>\n",
              "      <td>bij start onderhoud uitgevoerd</td>\n",
              "    </tr>\n",
              "    <tr>\n",
              "      <th>19</th>\n",
              "      <td>AVANTA ACE HR COMBI KETEL 28C CW4 80/80       ...</td>\n",
              "      <td>WONEN ZUID REGIO VALKENBURG</td>\n",
              "      <td>BECKERSWEI 29</td>\n",
              "      <td>6301 AX</td>\n",
              "      <td>VALKENBURG LB</td>\n",
              "      <td>29</td>\n",
              "      <td>340223</td>\n",
              "      <td>2022-06-14</td>\n",
              "      <td>referentieadres, geen beheer op afstand</td>\n",
              "      <td>bij start onderhoud uitgevoerd</td>\n",
              "    </tr>\n",
              "    <tr>\n",
              "      <th>20</th>\n",
              "      <td>AVANTA ACE HR COMBI KETEL 24C CW3 80/80       ...</td>\n",
              "      <td>WONEN ZUID REGIO VALKENBURG</td>\n",
              "      <td>BECKERSWEI 47</td>\n",
              "      <td>6301 AX</td>\n",
              "      <td>VALKENBURG LB</td>\n",
              "      <td>47</td>\n",
              "      <td>340210</td>\n",
              "      <td>2022-11-24</td>\n",
              "      <td>referentieadres, geen beheer op afstand</td>\n",
              "      <td>bij start onderhoud uitgevoerd</td>\n",
              "    </tr>\n",
              "    <tr>\n",
              "      <th>21</th>\n",
              "      <td>AVANTA ACE HR COMBI KETEL 28C CW4 80/80       ...</td>\n",
              "      <td>WONEN ZUID REGIO VALKENBURG</td>\n",
              "      <td>BECKERSWEI 67</td>\n",
              "      <td>6301 AX</td>\n",
              "      <td>VAKENBURG LB</td>\n",
              "      <td>67</td>\n",
              "      <td>340210</td>\n",
              "      <td>2022-08-15</td>\n",
              "      <td>referentieadres, geen beheer op afstand</td>\n",
              "      <td>bij start onderhoud uitgevoerd</td>\n",
              "    </tr>\n",
              "    <tr>\n",
              "      <th>22</th>\n",
              "      <td>AVANTA ACE HR COMBI KETEL 28C CW4 80/80       ...</td>\n",
              "      <td>WONEN ZUID REGIO VALKENBURG</td>\n",
              "      <td>BECKERSWEI 33</td>\n",
              "      <td>6301 AX</td>\n",
              "      <td>VALKENBURG LB</td>\n",
              "      <td>33</td>\n",
              "      <td>340210</td>\n",
              "      <td>2022-02-06</td>\n",
              "      <td>referentieadres, geen beheer op afstand</td>\n",
              "      <td>bij start onderhoud uitgevoerd</td>\n",
              "    </tr>\n",
              "    <tr>\n",
              "      <th>23</th>\n",
              "      <td>AVANTA ACE HR COMBI KETEL 28C CW4 80/80       ...</td>\n",
              "      <td>WONEN ZUID REGIO VALKENBURG</td>\n",
              "      <td>BECKERSWEI 27</td>\n",
              "      <td>6301 AX</td>\n",
              "      <td>VALKENBURG LB</td>\n",
              "      <td>27</td>\n",
              "      <td>340223</td>\n",
              "      <td>2022-05-30</td>\n",
              "      <td>referentieadres, geen beheer op afstand</td>\n",
              "      <td>bij start onderhoud uitgevoerd</td>\n",
              "    </tr>\n",
              "    <tr>\n",
              "      <th>24</th>\n",
              "      <td>AVANTA ACE HR COMBI KETEL 28C CW4 80/80       ...</td>\n",
              "      <td>WONEN ZUID REGIO VALKENBURG</td>\n",
              "      <td>BECKERSWEI 25</td>\n",
              "      <td>6301 AX</td>\n",
              "      <td>VALKENBURG LB</td>\n",
              "      <td>25</td>\n",
              "      <td>340223</td>\n",
              "      <td>2022-10-24</td>\n",
              "      <td>referentieadres, geen beheer op afstand</td>\n",
              "      <td>bij start onderhoud uitgevoerd</td>\n",
              "    </tr>\n",
              "    <tr>\n",
              "      <th>25</th>\n",
              "      <td>AVANTA ACE HR COMBI KETEL 24C CW3 80/80       ...</td>\n",
              "      <td>WONEN ZUID REGIO VALKENBURG</td>\n",
              "      <td>BECKERSWEI 75</td>\n",
              "      <td>6301 AX</td>\n",
              "      <td>VALKENBURG LB</td>\n",
              "      <td>75</td>\n",
              "      <td>340210</td>\n",
              "      <td>2022-11-21</td>\n",
              "      <td>referentieadres, geen beheer op afstand</td>\n",
              "      <td>bij start onderhoud uitgevoerd</td>\n",
              "    </tr>\n",
              "    <tr>\n",
              "      <th>26</th>\n",
              "      <td>AVANTA ACE HR COMBI KETEL 28C CW4 80/80       ...</td>\n",
              "      <td>WONEN ZUID REGIO VALKENBURG</td>\n",
              "      <td>BECKERSWEI 61</td>\n",
              "      <td>6301 AX</td>\n",
              "      <td>VALKENBURG LB</td>\n",
              "      <td>61</td>\n",
              "      <td>340210</td>\n",
              "      <td>2022-06-10</td>\n",
              "      <td>referentieadres, geen beheer op afstand</td>\n",
              "      <td>bij start geen onderhoud uitgevoerd</td>\n",
              "    </tr>\n",
              "    <tr>\n",
              "      <th>27</th>\n",
              "      <td>AVANTA ACE HR COMBI KETEL 28C CW4 80/80       ...</td>\n",
              "      <td>WONEN ZUID REGIO VALKENBURG</td>\n",
              "      <td>BECKERSWEI 19</td>\n",
              "      <td>6301 AX</td>\n",
              "      <td>VALKENBURG LB</td>\n",
              "      <td>19</td>\n",
              "      <td>340223</td>\n",
              "      <td>2022-11-15</td>\n",
              "      <td>referentieadres, geen beheer op afstand</td>\n",
              "      <td>bij start geen onderhoud uitgevoerd</td>\n",
              "    </tr>\n",
              "    <tr>\n",
              "      <th>28</th>\n",
              "      <td>AVANTA ACE HR COMBI KETEL 24C CW3 80/80       ...</td>\n",
              "      <td>WONEN ZUID REGIO VALKENBURG</td>\n",
              "      <td>BECKERSWEI 31</td>\n",
              "      <td>6301 AX</td>\n",
              "      <td>VALKENBURG LB</td>\n",
              "      <td>31</td>\n",
              "      <td>340210</td>\n",
              "      <td>2022-11-03</td>\n",
              "      <td>referentieadres, geen beheer op afstand</td>\n",
              "      <td>bij start geen onderhoud uitgevoerd</td>\n",
              "    </tr>\n",
              "    <tr>\n",
              "      <th>29</th>\n",
              "      <td>AVANTA ACE HR COMBI KETEL 24C CW3 80/80       ...</td>\n",
              "      <td>WONEN ZUID REGIO VALKENBURG</td>\n",
              "      <td>BECKERSWEI 57</td>\n",
              "      <td>6301 AX</td>\n",
              "      <td>VALKENBURG LB</td>\n",
              "      <td>57</td>\n",
              "      <td>340210</td>\n",
              "      <td>2022-12-01</td>\n",
              "      <td>referentieadres, geen beheer op afstand</td>\n",
              "      <td>bij start geen onderhoud uitgevoerd</td>\n",
              "    </tr>\n",
              "    <tr>\n",
              "      <th>30</th>\n",
              "      <td>AVANTA ACE HR COMBI KETEL 24C CW3 80/80       ...</td>\n",
              "      <td>WONEN ZUID REGIO VALKENBURG</td>\n",
              "      <td>BECKERSWEI 55</td>\n",
              "      <td>6301 AX</td>\n",
              "      <td>VALKENBURG LB</td>\n",
              "      <td>55</td>\n",
              "      <td>340210</td>\n",
              "      <td>2022-11-16</td>\n",
              "      <td>referentieadres, geen beheer op afstand</td>\n",
              "      <td>bij start geen onderhoud uitgevoerd</td>\n",
              "    </tr>\n",
              "    <tr>\n",
              "      <th>31</th>\n",
              "      <td>AVANTA ACE HR COMBI KETEL 24C CW3 80/80       ...</td>\n",
              "      <td>WONEN ZUID REGIO VALKENBURG</td>\n",
              "      <td>BECKERSWEI 45</td>\n",
              "      <td>6301 AX</td>\n",
              "      <td>VALKENBURG LB</td>\n",
              "      <td>45</td>\n",
              "      <td>340210</td>\n",
              "      <td>2022-11-10</td>\n",
              "      <td>referentieadres, geen beheer op afstand</td>\n",
              "      <td>bij start geen onderhoud uitgevoerd</td>\n",
              "    </tr>\n",
              "    <tr>\n",
              "      <th>32</th>\n",
              "      <td>AVANTA ACE HR COMBI KETEL 28C CW4 80/80       ...</td>\n",
              "      <td>WONEN ZUID REGIO VALKENBURG</td>\n",
              "      <td>BECKERSWEI 77</td>\n",
              "      <td>6301 AX</td>\n",
              "      <td>VALKENBURG LB</td>\n",
              "      <td>77</td>\n",
              "      <td>340210</td>\n",
              "      <td>2023-02-08</td>\n",
              "      <td>referentieadres, geen beheer op afstand</td>\n",
              "      <td>bij start geen onderhoud uitgevoerd</td>\n",
              "    </tr>\n",
              "    <tr>\n",
              "      <th>33</th>\n",
              "      <td>AVANTA ACE HR COMBI KETEL 24C CW3 80/80       ...</td>\n",
              "      <td>WONEN ZUID REGIO VALKENBURG</td>\n",
              "      <td>BECKERSWEI 71</td>\n",
              "      <td>6301 AX</td>\n",
              "      <td>VALKENBURG LB</td>\n",
              "      <td>71</td>\n",
              "      <td>340210</td>\n",
              "      <td>2022-11-04</td>\n",
              "      <td>referentieadres, geen beheer op afstand</td>\n",
              "      <td>bij start geen onderhoud uitgevoerd</td>\n",
              "    </tr>\n",
              "    <tr>\n",
              "      <th>34</th>\n",
              "      <td>AVANTA ACE HR COMBI KETEL 24C CW3 80/80       ...</td>\n",
              "      <td>WONEN ZUID REGIO VALKENBURG</td>\n",
              "      <td>BECKERSWEI 73</td>\n",
              "      <td>6301 AX</td>\n",
              "      <td>VAKENBURG LB</td>\n",
              "      <td>73</td>\n",
              "      <td>340210</td>\n",
              "      <td>2022-11-16</td>\n",
              "      <td>referentieadres, geen beheer op afstand</td>\n",
              "      <td>bij start geen onderhoud uitgevoerd</td>\n",
              "    </tr>\n",
              "  </tbody>\n",
              "</table>\n",
              "</div>"
            ],
            "text/plain": [
              "                                               device  \\\n",
              "1   AVANTA ACE HR COMBI KETEL 28C CW4 80/80       ...   \n",
              "2   AVANTA ACE HR COMBI KETEL 24C CW3 80/80       ...   \n",
              "3   AVANTA ACE HR COMBI KETEL 24C CW3 80/80       ...   \n",
              "4   AVANTA ACE HR COMBI KETEL 24C CW3 80/80       ...   \n",
              "5   AVANTA ACE HR COMBI KETEL 24C CW3 80/80       ...   \n",
              "6   AVANTA ACE HR COMBI KETEL 28C CW4 80/80       ...   \n",
              "7   AVANTA ACE HR COMBI KETEL 28C CW4 80/80       ...   \n",
              "8   AVANTA ACE HR COMBI KETEL 24C CW3 80/80       ...   \n",
              "9   AVANTA ACE HR COMBI KETEL 24C CW3 80/80       ...   \n",
              "10  AVANTA ACE HR COMBI KETEL 28C CW4 80/80       ...   \n",
              "11  AVANTA ACE HR COMBI KETEL 24C CW3 80/80       ...   \n",
              "12  AVANTA ACE HR COMBI KETEL 24C CW3 80/80       ...   \n",
              "13  AVANTA ACE HR COMBI KETEL 28C CW4 80/80       ...   \n",
              "14  AVANTA ACE HR COMBI KETEL 24C CW3 80/80       ...   \n",
              "15  AVANTA ACE HR COMBI KETEL 24C CW3 80/80       ...   \n",
              "16  AVANTA ACE HR COMBI KETEL 28C CW4 80/80       ...   \n",
              "17  AVANTA ACE HR COMBI KETEL 28C CW4 80/80       ...   \n",
              "18  AVANTA ACE HR COMBI KETEL 28C CW4 80/80       ...   \n",
              "19  AVANTA ACE HR COMBI KETEL 28C CW4 80/80       ...   \n",
              "20  AVANTA ACE HR COMBI KETEL 24C CW3 80/80       ...   \n",
              "21  AVANTA ACE HR COMBI KETEL 28C CW4 80/80       ...   \n",
              "22  AVANTA ACE HR COMBI KETEL 28C CW4 80/80       ...   \n",
              "23  AVANTA ACE HR COMBI KETEL 28C CW4 80/80       ...   \n",
              "24  AVANTA ACE HR COMBI KETEL 28C CW4 80/80       ...   \n",
              "25  AVANTA ACE HR COMBI KETEL 24C CW3 80/80       ...   \n",
              "26  AVANTA ACE HR COMBI KETEL 28C CW4 80/80       ...   \n",
              "27  AVANTA ACE HR COMBI KETEL 28C CW4 80/80       ...   \n",
              "28  AVANTA ACE HR COMBI KETEL 24C CW3 80/80       ...   \n",
              "29  AVANTA ACE HR COMBI KETEL 24C CW3 80/80       ...   \n",
              "30  AVANTA ACE HR COMBI KETEL 24C CW3 80/80       ...   \n",
              "31  AVANTA ACE HR COMBI KETEL 24C CW3 80/80       ...   \n",
              "32  AVANTA ACE HR COMBI KETEL 28C CW4 80/80       ...   \n",
              "33  AVANTA ACE HR COMBI KETEL 24C CW3 80/80       ...   \n",
              "34  AVANTA ACE HR COMBI KETEL 24C CW3 80/80       ...   \n",
              "\n",
              "                                   call_name  \\\n",
              "1   WONEN ZUID REGIO VALKENBURG                \n",
              "2   WONEN ZUID REGIO VALKENBURG                \n",
              "3   WONEN ZUID REGIO VALKENBURG                \n",
              "4   WONEN ZUID REGIO VALKENBURG                \n",
              "5   W.M.G VAN DEN NIEUWENDIJK                  \n",
              "6   WONEN ZUID REGIO VALKENBURG                \n",
              "7   WONEN ZUID REGIO VALKENBURG                \n",
              "8   WONEN ZUID REGIO VALKENBURG                \n",
              "9   WONEN ZUID REGIO VALKENBURG                \n",
              "10  WONEN ZUID REGIO VALKENBURG                \n",
              "11  WONEN ZUID REGIO VALKENBURG                \n",
              "12  WONEN ZUID                                 \n",
              "13  WONEN ZUID REGIO VALKENBURG                \n",
              "14  WONEN ZUID REGIO VALKENBURG                \n",
              "15  WONEN ZUID REGIO VALKENBURG                \n",
              "16  WONEN ZUID REGIO VALKENBURG                \n",
              "17  WONEN ZUID REGIO VALKENBURG                \n",
              "18  WONEN ZUID REGIO VALKENBURG                \n",
              "19  WONEN ZUID REGIO VALKENBURG                \n",
              "20  WONEN ZUID REGIO VALKENBURG                \n",
              "21  WONEN ZUID REGIO VALKENBURG                \n",
              "22  WONEN ZUID REGIO VALKENBURG                \n",
              "23  WONEN ZUID REGIO VALKENBURG                \n",
              "24  WONEN ZUID REGIO VALKENBURG                \n",
              "25  WONEN ZUID REGIO VALKENBURG                \n",
              "26  WONEN ZUID REGIO VALKENBURG                \n",
              "27  WONEN ZUID REGIO VALKENBURG                \n",
              "28  WONEN ZUID REGIO VALKENBURG                \n",
              "29  WONEN ZUID REGIO VALKENBURG                \n",
              "30  WONEN ZUID REGIO VALKENBURG                \n",
              "31  WONEN ZUID REGIO VALKENBURG                \n",
              "32  WONEN ZUID REGIO VALKENBURG                \n",
              "33  WONEN ZUID REGIO VALKENBURG                \n",
              "34  WONEN ZUID REGIO VALKENBURG                \n",
              "\n",
              "                                call_address         call_postcode  \\\n",
              "1   VAN PALLANDTLAAN 35                       6301 TN                \n",
              "2   VAN PALLANDTLAAN 27                       6301 TN                \n",
              "3   VAN PALLANDTLAAN 29                       6301 TN                \n",
              "4   VAN PALLANDTLAAN 25                       6301 TN                \n",
              "5   VAN PALLANDTLAAN 33                       6301 TN                \n",
              "6   BERKELPLEIN 38                            6301 ZE                \n",
              "7   PRINS WILLEM ALEXANDERLAAN 41             6301 TR                \n",
              "8   PR.W.ALEXANDERLAAN 58                     6301 TZ                \n",
              "9   VAN HEINSBERGLAAN 14                      6301 VJ                \n",
              "10  BERKELPLEIN 200                           6301 ZK                \n",
              "11  PRINSES IRENELAAN 1                       6301 VR                \n",
              "12  PRINSES IRENELAAN 9                       6301 VR                \n",
              "13  PRINSES IRENELAAN 7                       6301 VR                \n",
              "14  PRINS WILLEM ALEXANDERLAAN 44             6301 TZ                \n",
              "15  PR.W.ALEXANDERLAAN 46                     6301 TZ                \n",
              "16  PRINSES CHRISTINALAAN 13                  6301 VV                \n",
              "17  BECKERSWEI 21                             6301 AX                \n",
              "18  BECKERSWEI 59                             6301 AX                \n",
              "19  BECKERSWEI 29                             6301 AX                \n",
              "20  BECKERSWEI 47                             6301 AX                \n",
              "21  BECKERSWEI 67                             6301 AX                \n",
              "22  BECKERSWEI 33                             6301 AX                \n",
              "23  BECKERSWEI 27                             6301 AX                \n",
              "24  BECKERSWEI 25                             6301 AX                \n",
              "25  BECKERSWEI 75                             6301 AX                \n",
              "26  BECKERSWEI 61                             6301 AX                \n",
              "27  BECKERSWEI 19                             6301 AX                \n",
              "28  BECKERSWEI 31                             6301 AX                \n",
              "29  BECKERSWEI 57                             6301 AX                \n",
              "30  BECKERSWEI 55                             6301 AX                \n",
              "31  BECKERSWEI 45                             6301 AX                \n",
              "32  BECKERSWEI 77                             6301 AX                \n",
              "33  BECKERSWEI 71                             6301 AX                \n",
              "34  BECKERSWEI 73                             6301 AX                \n",
              "\n",
              "        call_city  call_housenr  ComplexNr date_of_service  \\\n",
              "1   VALKENBURG LB            35     340520      2022-03-24   \n",
              "2   VALKENBURG LB            27     340520      2023-03-22   \n",
              "3   VALKENBURG LB            29     340520      2023-03-16   \n",
              "4   VALKENBURG LB            25     340520      2023-03-22   \n",
              "5   VALKENBURG LB            33     340520      2023-03-21   \n",
              "6   VALKENBURG LB            38     340616      2022-11-10   \n",
              "7   VALKENBURG LB            41     340519      2022-04-14   \n",
              "8   VALKENBURG LB            58     340520      2023-01-16   \n",
              "9   VALKENBURG LB            14     340519      2022-03-01   \n",
              "10  VALKENBURG LB           200     340616      2022-03-24   \n",
              "11  VALKENBURG LB             1     340520      2023-01-17   \n",
              "12  VALKENBURG LB             9     340520      2022-12-28   \n",
              "13  VALKENBURG LB             7     340520      2022-11-16   \n",
              "14  VALKENBURG LB            44     340520      2022-12-19   \n",
              "15  VALKENBURG LB            46     340520      2023-01-13   \n",
              "16  VALKENBURG LB            13     340519      2022-06-02   \n",
              "17  VALKENBURG LB            21     340223      2022-11-02   \n",
              "18  VALKENBURG LB            59     340210      2022-06-03   \n",
              "19  VALKENBURG LB            29     340223      2022-06-14   \n",
              "20  VALKENBURG LB            47     340210      2022-11-24   \n",
              "21   VAKENBURG LB            67     340210      2022-08-15   \n",
              "22  VALKENBURG LB            33     340210      2022-02-06   \n",
              "23  VALKENBURG LB            27     340223      2022-05-30   \n",
              "24  VALKENBURG LB            25     340223      2022-10-24   \n",
              "25  VALKENBURG LB            75     340210      2022-11-21   \n",
              "26  VALKENBURG LB            61     340210      2022-06-10   \n",
              "27  VALKENBURG LB            19     340223      2022-11-15   \n",
              "28  VALKENBURG LB            31     340210      2022-11-03   \n",
              "29  VALKENBURG LB            57     340210      2022-12-01   \n",
              "30  VALKENBURG LB            55     340210      2022-11-16   \n",
              "31  VALKENBURG LB            45     340210      2022-11-10   \n",
              "32  VALKENBURG LB            77     340210      2023-02-08   \n",
              "33  VALKENBURG LB            71     340210      2022-11-04   \n",
              "34   VAKENBURG LB            73     340210      2022-11-16   \n",
              "\n",
              "                                RemoteCheck  \\\n",
              "1                         beheer op afstand   \n",
              "2                         beheer op afstand   \n",
              "3                         beheer op afstand   \n",
              "4                         beheer op afstand   \n",
              "5                         beheer op afstand   \n",
              "6                         beheer op afstand   \n",
              "7                         beheer op afstand   \n",
              "8                         beheer op afstand   \n",
              "9                         beheer op afstand   \n",
              "10                        beheer op afstand   \n",
              "11                        beheer op afstand   \n",
              "12                        beheer op afstand   \n",
              "13                        beheer op afstand   \n",
              "14                        beheer op afstand   \n",
              "15                        beheer op afstand   \n",
              "16                        beheer op afstand   \n",
              "17  referentieadres, geen beheer op afstand   \n",
              "18  referentieadres, geen beheer op afstand   \n",
              "19  referentieadres, geen beheer op afstand   \n",
              "20  referentieadres, geen beheer op afstand   \n",
              "21  referentieadres, geen beheer op afstand   \n",
              "22  referentieadres, geen beheer op afstand   \n",
              "23  referentieadres, geen beheer op afstand   \n",
              "24  referentieadres, geen beheer op afstand   \n",
              "25  referentieadres, geen beheer op afstand   \n",
              "26  referentieadres, geen beheer op afstand   \n",
              "27  referentieadres, geen beheer op afstand   \n",
              "28  referentieadres, geen beheer op afstand   \n",
              "29  referentieadres, geen beheer op afstand   \n",
              "30  referentieadres, geen beheer op afstand   \n",
              "31  referentieadres, geen beheer op afstand   \n",
              "32  referentieadres, geen beheer op afstand   \n",
              "33  referentieadres, geen beheer op afstand   \n",
              "34  referentieadres, geen beheer op afstand   \n",
              "\n",
              "                       MaintenanceCheck  \n",
              "1        bij start onderhoud uitgevoerd  \n",
              "2        bij start onderhoud uitgevoerd  \n",
              "3        bij start onderhoud uitgevoerd  \n",
              "4        bij start onderhoud uitgevoerd  \n",
              "5        bij start onderhoud uitgevoerd  \n",
              "6        bij start onderhoud uitgevoerd  \n",
              "7        bij start onderhoud uitgevoerd  \n",
              "8        bij start onderhoud uitgevoerd  \n",
              "9   bij start geen onderhoud uitgevoerd  \n",
              "10  bij start geen onderhoud uitgevoerd  \n",
              "11  bij start geen onderhoud uitgevoerd  \n",
              "12  bij start geen onderhoud uitgevoerd  \n",
              "13  bij start geen onderhoud uitgevoerd  \n",
              "14  bij start geen onderhoud uitgevoerd  \n",
              "15  bij start geen onderhoud uitgevoerd  \n",
              "16  bij start geen onderhoud uitgevoerd  \n",
              "17       bij start onderhoud uitgevoerd  \n",
              "18       bij start onderhoud uitgevoerd  \n",
              "19       bij start onderhoud uitgevoerd  \n",
              "20       bij start onderhoud uitgevoerd  \n",
              "21       bij start onderhoud uitgevoerd  \n",
              "22       bij start onderhoud uitgevoerd  \n",
              "23       bij start onderhoud uitgevoerd  \n",
              "24       bij start onderhoud uitgevoerd  \n",
              "25       bij start onderhoud uitgevoerd  \n",
              "26  bij start geen onderhoud uitgevoerd  \n",
              "27  bij start geen onderhoud uitgevoerd  \n",
              "28  bij start geen onderhoud uitgevoerd  \n",
              "29  bij start geen onderhoud uitgevoerd  \n",
              "30  bij start geen onderhoud uitgevoerd  \n",
              "31  bij start geen onderhoud uitgevoerd  \n",
              "32  bij start geen onderhoud uitgevoerd  \n",
              "33  bij start geen onderhoud uitgevoerd  \n",
              "34  bij start geen onderhoud uitgevoerd  "
            ]
          },
          "execution_count": 14,
          "metadata": {},
          "output_type": "execute_result"
        }
      ],
      "source": [
        "#checking it\n",
        "df_adressen_cleaned"
      ]
    },
    {
      "cell_type": "code",
      "execution_count": 16,
      "metadata": {
        "id": "DRLSizD321Uz",
        "metadata": {}
      },
      "outputs": [],
      "source": [
        "cleaned_file_path = './data/cleaned/adressen_cleaned_v1.xlsx'  # Adjust path as needed\n",
        "df_adressen_cleaned.to_excel(cleaned_file_path, index=False)\n"
      ]
    },
    {
      "cell_type": "markdown",
      "metadata": {
        "id": "tAP5nsQ19wCE"
      },
      "source": [
        "## For volta foutcode docs 2010-2023"
      ]
    },
    {
      "cell_type": "code",
      "execution_count": 17,
      "metadata": {
        "colab": {
          "base_uri": "https://localhost:8080/"
        },
        "id": "qk3uKulRLBuF",
        "metadata": {},
        "outputId": "be4f96ff-9cc4-4082-c457-b168a13cf731"
      },
      "outputs": [
        {
          "name": "stdout",
          "output_type": "stream",
          "text": [
            "<class 'pandas.core.frame.DataFrame'>\n",
            "RangeIndex: 794935 entries, 0 to 794934\n",
            "Data columns (total 4 columns):\n",
            " #   Column       Non-Null Count   Dtype         \n",
            "---  ------       --------------   -----         \n",
            " 0   CALL_PREFIX  794935 non-null  int64         \n",
            " 1   CALL_SUFFIX  794935 non-null  int64         \n",
            " 2   FAULT_CODE   794935 non-null  object        \n",
            " 3   CREATE_DATE  794935 non-null  datetime64[ns]\n",
            "dtypes: datetime64[ns](1), int64(2), object(1)\n",
            "memory usage: 24.3+ MB\n",
            "<class 'pandas.core.frame.DataFrame'>\n",
            "RangeIndex: 829592 entries, 0 to 829591\n",
            "Data columns (total 4 columns):\n",
            " #   Column       Non-Null Count   Dtype         \n",
            "---  ------       --------------   -----         \n",
            " 0   CALL_PREFIX  829592 non-null  int64         \n",
            " 1   CALL_SUFFIX  829592 non-null  int64         \n",
            " 2   FAULT_CODE   829592 non-null  object        \n",
            " 3   CREATE_DATE  829592 non-null  datetime64[ns]\n",
            "dtypes: datetime64[ns](1), int64(2), object(1)\n",
            "memory usage: 25.3+ MB\n",
            "<class 'pandas.core.frame.DataFrame'>\n",
            "RangeIndex: 567469 entries, 0 to 567468\n",
            "Data columns (total 4 columns):\n",
            " #   Column       Non-Null Count   Dtype         \n",
            "---  ------       --------------   -----         \n",
            " 0   CALL_PREFIX  567469 non-null  int64         \n",
            " 1   CALL_SUFFIX  567469 non-null  int64         \n",
            " 2   FAULT_CODE   567469 non-null  object        \n",
            " 3   CREATE_DATE  567469 non-null  datetime64[ns]\n",
            "dtypes: datetime64[ns](1), int64(2), object(1)\n",
            "memory usage: 17.3+ MB\n"
          ]
        }
      ],
      "source": [
        "#checking columns, datatypes for each\n",
        "df_foutcode2010to2014.info()\n",
        "df_foutcode2015to2019.info()\n",
        "df_foutcode2020to2023.info()"
      ]
    },
    {
      "cell_type": "code",
      "execution_count": 18,
      "metadata": {
        "colab": {
          "base_uri": "https://localhost:8080/"
        },
        "id": "MkEwH5lw-Xi0",
        "metadata": {},
        "outputId": "98158ac9-de53-4688-9310-f3697ad85e10"
      },
      "outputs": [
        {
          "name": "stdout",
          "output_type": "stream",
          "text": [
            "   CALL_PREFIX  CALL_SUFFIX  FAULT_CODE CREATE_DATE\n",
            "0      2073122            1  31000       2010-01-05\n",
            "1      2174170            1  30000       2012-09-28\n",
            "2      2376219            1  30000       2013-04-18\n",
            "3      2413681            1  30400       2012-07-06\n",
            "4      2454718            1  30500       2011-01-10\n"
          ]
        }
      ],
      "source": [
        "#stitching goes here\n",
        "df_foutcode_all= pd.concat([df_foutcode2010to2014, df_foutcode2015to2019, df_foutcode2020to2023], ignore_index=True)\n",
        "# Check the first few rows to ensure concatenation went as expected\n",
        "print(df_foutcode_all.head())"
      ]
    },
    {
      "cell_type": "code",
      "execution_count": 19,
      "metadata": {
        "colab": {
          "base_uri": "https://localhost:8080/"
        },
        "id": "g_eNguUbL5fv",
        "metadata": {},
        "outputId": "9334894a-3239-4f07-a274-e7c7d463c176"
      },
      "outputs": [
        {
          "name": "stdout",
          "output_type": "stream",
          "text": [
            "<class 'pandas.core.frame.DataFrame'>\n",
            "RangeIndex: 2191996 entries, 0 to 2191995\n",
            "Data columns (total 4 columns):\n",
            " #   Column       Dtype         \n",
            "---  ------       -----         \n",
            " 0   CALL_PREFIX  int64         \n",
            " 1   CALL_SUFFIX  int64         \n",
            " 2   FAULT_CODE   object        \n",
            " 3   CREATE_DATE  datetime64[ns]\n",
            "dtypes: datetime64[ns](1), int64(2), object(1)\n",
            "memory usage: 66.9+ MB\n"
          ]
        }
      ],
      "source": [
        "# Check the info to ensure the data types and non-null counts are as expected\n",
        "df_foutcode_all.info()"
      ]
    },
    {
      "cell_type": "markdown",
      "metadata": {
        "id": "OH5A0WrGMrcF"
      },
      "source": [
        "Now to check and clean"
      ]
    },
    {
      "cell_type": "code",
      "execution_count": 20,
      "metadata": {
        "colab": {
          "base_uri": "https://localhost:8080/"
        },
        "id": "Lxi6v1gpMHt-",
        "metadata": {},
        "outputId": "7abb5960-3f8f-4496-d3d1-f6406f136368"
      },
      "outputs": [
        {
          "name": "stdout",
          "output_type": "stream",
          "text": [
            "CALL_PREFIX    0\n",
            "CALL_SUFFIX    0\n",
            "FAULT_CODE     0\n",
            "CREATE_DATE    0\n",
            "dtype: int64\n"
          ]
        }
      ],
      "source": [
        "print(df_foutcode_all.isnull().sum())"
      ]
    },
    {
      "cell_type": "code",
      "execution_count": 21,
      "metadata": {
        "colab": {
          "base_uri": "https://localhost:8080/"
        },
        "id": "EcTxGFMO9wCE",
        "metadata": {},
        "outputId": "63833019-aa1e-4ee6-eba0-19ef65433f6e"
      },
      "outputs": [
        {
          "name": "stdout",
          "output_type": "stream",
          "text": [
            "['31000     ' '30000     ' '30400     ' ... '22651     ' '24311     '\n",
            " '19963     ']\n"
          ]
        }
      ],
      "source": [
        "print(df_foutcode_all['FAULT_CODE'].unique())"
      ]
    },
    {
      "cell_type": "code",
      "execution_count": 22,
      "metadata": {
        "id": "wDXpcHguM-a-",
        "metadata": {}
      },
      "outputs": [],
      "source": [
        "#if we want to keep FAULT_CODE categorical, ensuring consistency\n",
        "df_foutcode_all['FAULT_CODE'] = df_foutcode_all['FAULT_CODE'].str.strip().str.upper()\n"
      ]
    },
    {
      "cell_type": "code",
      "execution_count": 23,
      "metadata": {
        "id": "WoPjvORmMxVc",
        "metadata": {}
      },
      "outputs": [],
      "source": [
        "#checking and dropping duplicates\n",
        "df_foutcode_all= df_foutcode_all.drop_duplicates()"
      ]
    },
    {
      "cell_type": "code",
      "execution_count": 24,
      "metadata": {
        "colab": {
          "base_uri": "https://localhost:8080/",
          "height": 300
        },
        "id": "S8tp6Q3zMxOq",
        "metadata": {},
        "outputId": "1b71a485-1514-45fd-9563-79dd78de793b"
      },
      "outputs": [
        {
          "data": {
            "text/html": [
              "<div>\n",
              "<style scoped>\n",
              "    .dataframe tbody tr th:only-of-type {\n",
              "        vertical-align: middle;\n",
              "    }\n",
              "\n",
              "    .dataframe tbody tr th {\n",
              "        vertical-align: top;\n",
              "    }\n",
              "\n",
              "    .dataframe thead th {\n",
              "        text-align: right;\n",
              "    }\n",
              "</style>\n",
              "<table border=\"1\" class=\"dataframe\">\n",
              "  <thead>\n",
              "    <tr style=\"text-align: right;\">\n",
              "      <th></th>\n",
              "      <th>CALL_PREFIX</th>\n",
              "      <th>CALL_SUFFIX</th>\n",
              "      <th>CREATE_DATE</th>\n",
              "    </tr>\n",
              "  </thead>\n",
              "  <tbody>\n",
              "    <tr>\n",
              "      <th>count</th>\n",
              "      <td>2.191996e+06</td>\n",
              "      <td>2.191996e+06</td>\n",
              "      <td>2191996</td>\n",
              "    </tr>\n",
              "    <tr>\n",
              "      <th>mean</th>\n",
              "      <td>4.243150e+06</td>\n",
              "      <td>1.088200e+00</td>\n",
              "      <td>2016-11-02 17:04:31.150129664</td>\n",
              "    </tr>\n",
              "    <tr>\n",
              "      <th>min</th>\n",
              "      <td>2.073122e+06</td>\n",
              "      <td>1.000000e+00</td>\n",
              "      <td>2010-01-02 00:00:00</td>\n",
              "    </tr>\n",
              "    <tr>\n",
              "      <th>25%</th>\n",
              "      <td>3.768568e+06</td>\n",
              "      <td>1.000000e+00</td>\n",
              "      <td>2013-08-07 00:00:00</td>\n",
              "    </tr>\n",
              "    <tr>\n",
              "      <th>50%</th>\n",
              "      <td>4.233924e+06</td>\n",
              "      <td>1.000000e+00</td>\n",
              "      <td>2016-09-08 00:00:00</td>\n",
              "    </tr>\n",
              "    <tr>\n",
              "      <th>75%</th>\n",
              "      <td>4.719211e+06</td>\n",
              "      <td>1.000000e+00</td>\n",
              "      <td>2020-02-11 00:00:00</td>\n",
              "    </tr>\n",
              "    <tr>\n",
              "      <th>max</th>\n",
              "      <td>5.304755e+06</td>\n",
              "      <td>6.000000e+01</td>\n",
              "      <td>2023-11-02 00:00:00</td>\n",
              "    </tr>\n",
              "    <tr>\n",
              "      <th>std</th>\n",
              "      <td>5.728153e+05</td>\n",
              "      <td>4.907911e-01</td>\n",
              "      <td>NaN</td>\n",
              "    </tr>\n",
              "  </tbody>\n",
              "</table>\n",
              "</div>"
            ],
            "text/plain": [
              "        CALL_PREFIX   CALL_SUFFIX                    CREATE_DATE\n",
              "count  2.191996e+06  2.191996e+06                        2191996\n",
              "mean   4.243150e+06  1.088200e+00  2016-11-02 17:04:31.150129664\n",
              "min    2.073122e+06  1.000000e+00            2010-01-02 00:00:00\n",
              "25%    3.768568e+06  1.000000e+00            2013-08-07 00:00:00\n",
              "50%    4.233924e+06  1.000000e+00            2016-09-08 00:00:00\n",
              "75%    4.719211e+06  1.000000e+00            2020-02-11 00:00:00\n",
              "max    5.304755e+06  6.000000e+01            2023-11-02 00:00:00\n",
              "std    5.728153e+05  4.907911e-01                            NaN"
            ]
          },
          "execution_count": 24,
          "metadata": {},
          "output_type": "execute_result"
        }
      ],
      "source": [
        "df_foutcode_all.describe() #habit"
      ]
    },
    {
      "cell_type": "code",
      "execution_count": 25,
      "metadata": {
        "id": "vQJ8iKKaNa6u",
        "metadata": {}
      },
      "outputs": [],
      "source": [
        "#ensuring index intregrity\n",
        "df_foutcode_all.reset_index(drop=True, inplace=True)\n"
      ]
    },
    {
      "cell_type": "code",
      "execution_count": null,
      "metadata": {
        "colab": {
          "base_uri": "https://localhost:8080/",
          "height": 424
        },
        "id": "hthqxVGsOA0T",
        "outputId": "9e145826-d993-4466-90cf-07c4174bddd0"
      },
      "outputs": [],
      "source": [
        "df_foutcode_all"
      ]
    },
    {
      "cell_type": "code",
      "execution_count": null,
      "metadata": {
        "id": "r_BxYj0j9wCF"
      },
      "outputs": [],
      "source": [
        "#df_foutcode_all_cleaned = df_foutcode_all\n",
        "#cleaned_file_path = '/content/drive/MyDrive/4. University: Projects, Groups, etc/0.BISS/Volta Project Group/volta data/cleaned/foutcodeall_cleaned_v1.xlsx'  # Adjust path as needed\n",
        "#df_foutcode_all_cleaned.to_excel(cleaned_file_path, index=False)\n",
        "#trying to do this in Excel leads to error as it's too large. so instead im doing it with parquet below."
      ]
    },
    {
      "cell_type": "code",
      "execution_count": 26,
      "metadata": {
        "id": "cse0zurqOw_q",
        "metadata": {}
      },
      "outputs": [],
      "source": [
        "parquet_file_path = './data/cleaned/foutcodeall_cleaned_v1.parquet'\n",
        "df_foutcode_all.to_parquet(parquet_file_path, index=False)\n",
        "df_foutcode_all_cleanedv1 = pd.read_parquet(parquet_file_path)\n"
      ]
    },
    {
      "cell_type": "code",
      "execution_count": 27,
      "metadata": {
        "colab": {
          "base_uri": "https://localhost:8080/",
          "height": 424
        },
        "id": "ONS0Xx-RPZkD",
        "metadata": {},
        "outputId": "572590d3-a5c7-428c-8e2f-558f9109d479"
      },
      "outputs": [
        {
          "data": {
            "text/html": [
              "<div>\n",
              "<style scoped>\n",
              "    .dataframe tbody tr th:only-of-type {\n",
              "        vertical-align: middle;\n",
              "    }\n",
              "\n",
              "    .dataframe tbody tr th {\n",
              "        vertical-align: top;\n",
              "    }\n",
              "\n",
              "    .dataframe thead th {\n",
              "        text-align: right;\n",
              "    }\n",
              "</style>\n",
              "<table border=\"1\" class=\"dataframe\">\n",
              "  <thead>\n",
              "    <tr style=\"text-align: right;\">\n",
              "      <th></th>\n",
              "      <th>CALL_PREFIX</th>\n",
              "      <th>CALL_SUFFIX</th>\n",
              "      <th>FAULT_CODE</th>\n",
              "      <th>CREATE_DATE</th>\n",
              "    </tr>\n",
              "  </thead>\n",
              "  <tbody>\n",
              "    <tr>\n",
              "      <th>0</th>\n",
              "      <td>2073122</td>\n",
              "      <td>1</td>\n",
              "      <td>31000</td>\n",
              "      <td>2010-01-05</td>\n",
              "    </tr>\n",
              "    <tr>\n",
              "      <th>1</th>\n",
              "      <td>2174170</td>\n",
              "      <td>1</td>\n",
              "      <td>30000</td>\n",
              "      <td>2012-09-28</td>\n",
              "    </tr>\n",
              "    <tr>\n",
              "      <th>2</th>\n",
              "      <td>2376219</td>\n",
              "      <td>1</td>\n",
              "      <td>30000</td>\n",
              "      <td>2013-04-18</td>\n",
              "    </tr>\n",
              "    <tr>\n",
              "      <th>3</th>\n",
              "      <td>2413681</td>\n",
              "      <td>1</td>\n",
              "      <td>30400</td>\n",
              "      <td>2012-07-06</td>\n",
              "    </tr>\n",
              "    <tr>\n",
              "      <th>4</th>\n",
              "      <td>2454718</td>\n",
              "      <td>1</td>\n",
              "      <td>30500</td>\n",
              "      <td>2011-01-10</td>\n",
              "    </tr>\n",
              "    <tr>\n",
              "      <th>...</th>\n",
              "      <td>...</td>\n",
              "      <td>...</td>\n",
              "      <td>...</td>\n",
              "      <td>...</td>\n",
              "    </tr>\n",
              "    <tr>\n",
              "      <th>2191991</th>\n",
              "      <td>5304687</td>\n",
              "      <td>1</td>\n",
              "      <td>20300</td>\n",
              "      <td>2023-11-02</td>\n",
              "    </tr>\n",
              "    <tr>\n",
              "      <th>2191992</th>\n",
              "      <td>5304701</td>\n",
              "      <td>1</td>\n",
              "      <td>19641</td>\n",
              "      <td>2023-11-02</td>\n",
              "    </tr>\n",
              "    <tr>\n",
              "      <th>2191993</th>\n",
              "      <td>5304719</td>\n",
              "      <td>1</td>\n",
              "      <td>15671</td>\n",
              "      <td>2023-11-02</td>\n",
              "    </tr>\n",
              "    <tr>\n",
              "      <th>2191994</th>\n",
              "      <td>5304719</td>\n",
              "      <td>1</td>\n",
              "      <td>32100</td>\n",
              "      <td>2023-11-02</td>\n",
              "    </tr>\n",
              "    <tr>\n",
              "      <th>2191995</th>\n",
              "      <td>5304755</td>\n",
              "      <td>1</td>\n",
              "      <td>12700</td>\n",
              "      <td>2023-11-02</td>\n",
              "    </tr>\n",
              "  </tbody>\n",
              "</table>\n",
              "<p>2191996 rows × 4 columns</p>\n",
              "</div>"
            ],
            "text/plain": [
              "         CALL_PREFIX  CALL_SUFFIX FAULT_CODE CREATE_DATE\n",
              "0            2073122            1      31000  2010-01-05\n",
              "1            2174170            1      30000  2012-09-28\n",
              "2            2376219            1      30000  2013-04-18\n",
              "3            2413681            1      30400  2012-07-06\n",
              "4            2454718            1      30500  2011-01-10\n",
              "...              ...          ...        ...         ...\n",
              "2191991      5304687            1      20300  2023-11-02\n",
              "2191992      5304701            1      19641  2023-11-02\n",
              "2191993      5304719            1      15671  2023-11-02\n",
              "2191994      5304719            1      32100  2023-11-02\n",
              "2191995      5304755            1      12700  2023-11-02\n",
              "\n",
              "[2191996 rows x 4 columns]"
            ]
          },
          "execution_count": 27,
          "metadata": {},
          "output_type": "execute_result"
        }
      ],
      "source": [
        "df_foutcode_all_cleanedv1"
      ]
    },
    {
      "cell_type": "markdown",
      "metadata": {
        "id": "VCxLZAtA3FqR"
      },
      "source": [
        "## For foutcode omschrijving"
      ]
    },
    {
      "cell_type": "markdown",
      "metadata": {
        "id": "Q8jWKFAH_eH7"
      },
      "source": [
        "This one is kinda weird, only 3 columns\n",
        "code, description, and create date\n",
        "\n",
        "and the dates appear to go all the way back to 2000 and some of them are nonsense.\n",
        "\n",
        "This file just might be something we ignore, idk."
      ]
    },
    {
      "cell_type": "code",
      "execution_count": null,
      "metadata": {
        "id": "Za1FDkPT3F_I"
      },
      "outputs": [],
      "source": [
        "#Data Volta Foutcode omschrijving\n",
        "#file_path = './data/Data Volta Foutcode omschrijving.xlsx'  # Update this to your file's path\n",
        "#df_foutcode_omschrijving = pd.read_excel(file_path, engine='openpyxl')  # Use 'xlrd' if your file is .xls"
      ]
    },
    {
      "cell_type": "code",
      "execution_count": 28,
      "metadata": {
        "colab": {
          "base_uri": "https://localhost:8080/"
        },
        "id": "E98_0iWsPy6R",
        "metadata": {},
        "outputId": "bf550e9d-3856-469e-bf08-c6c7ee378e0f"
      },
      "outputs": [
        {
          "name": "stdout",
          "output_type": "stream",
          "text": [
            "<class 'pandas.core.frame.DataFrame'>\n",
            "RangeIndex: 2199 entries, 0 to 2198\n",
            "Data columns (total 3 columns):\n",
            " #   Column       Non-Null Count  Dtype         \n",
            "---  ------       --------------  -----         \n",
            " 0   CODE         2199 non-null   object        \n",
            " 1   DESCRIPTION  2199 non-null   object        \n",
            " 2   CREATE_DATE  2199 non-null   datetime64[ns]\n",
            "dtypes: datetime64[ns](1), object(2)\n",
            "memory usage: 51.7+ KB\n"
          ]
        }
      ],
      "source": [
        "#inspecting data types\n",
        "df_foutcode_omschrijving.info()"
      ]
    },
    {
      "cell_type": "code",
      "execution_count": 29,
      "metadata": {
        "id": "1AegVeVwQJA2",
        "metadata": {}
      },
      "outputs": [],
      "source": [
        "#standardizing CODE\n",
        "df_foutcode_omschrijving['CODE'] = df_foutcode_omschrijving['CODE'].astype(str)"
      ]
    },
    {
      "cell_type": "code",
      "execution_count": 30,
      "metadata": {
        "id": "KhDlhcREQLI5",
        "metadata": {}
      },
      "outputs": [],
      "source": [
        "# Clean DESCRIPTION\n",
        "df_foutcode_omschrijving['DESCRIPTION'] = df_foutcode_omschrijving['DESCRIPTION'].str.strip().str.upper()"
      ]
    },
    {
      "cell_type": "code",
      "execution_count": 31,
      "metadata": {
        "id": "xGddnfMJQMxV",
        "metadata": {}
      },
      "outputs": [],
      "source": [
        "#Validate CREATE_DATE\n",
        "df_foutcode_omschrijving['CREATE_DATE'] = pd.to_datetime(df_foutcode_omschrijving['CREATE_DATE'])"
      ]
    },
    {
      "cell_type": "code",
      "execution_count": 32,
      "metadata": {
        "id": "aiEGHbQfQPmJ",
        "metadata": {}
      },
      "outputs": [],
      "source": [
        "#Drop rows with any missing values\n",
        "df_foutcode_omschrijving.dropna(inplace=True)"
      ]
    },
    {
      "cell_type": "code",
      "execution_count": 33,
      "metadata": {
        "id": "2k0UbFQyQTKS",
        "metadata": {}
      },
      "outputs": [],
      "source": [
        "#Removing duplicates\n",
        "df_foutcode_omschrijving = df_foutcode_omschrijving.drop_duplicates()"
      ]
    },
    {
      "cell_type": "code",
      "execution_count": 34,
      "metadata": {
        "colab": {
          "base_uri": "https://localhost:8080/"
        },
        "id": "o7pUmcyBQlYG",
        "metadata": {},
        "outputId": "aed809d3-1986-40d0-ec08-f24227dfd79c"
      },
      "outputs": [
        {
          "name": "stdout",
          "output_type": "stream",
          "text": [
            "['10098     ' '10099     ' '10100     ' ... 'WPL50     ' 'WPL60     '\n",
            " 'WPL70     ']\n",
            "['WENST GEEN OFFERTE' 'OFFERTE ONLINE AANGEVRAAGD'\n",
            " 'XX WATERAANSLUITKRAAN 00' ... 'INSTALLATIE OP ORDER CZ  50'\n",
            " 'UITWIS./ VERV.TOESTELLEN  60' 'WEGHALEN APPARATUUR   70']\n"
          ]
        }
      ],
      "source": [
        "#Inspect Unique Values\n",
        "print(df_foutcode_omschrijving['CODE'].unique())\n",
        "print(df_foutcode_omschrijving['DESCRIPTION'].unique())"
      ]
    },
    {
      "cell_type": "code",
      "execution_count": 35,
      "metadata": {
        "id": "nvBaMSWL_2qP",
        "metadata": {}
      },
      "outputs": [],
      "source": [
        "#Saving the cleaned df\n",
        "df_foutcode_omschrijving_cleaned = df_foutcode_omschrijving"
      ]
    },
    {
      "cell_type": "code",
      "execution_count": 36,
      "metadata": {
        "id": "1pXGuE4k_wog",
        "metadata": {}
      },
      "outputs": [],
      "source": [
        "cleaned_file_path = './data/cleaned/omschrijving_cleaned_v1.xlsx'  # Adjust path as needed\n",
        "df_foutcode_omschrijving.to_excel(cleaned_file_path, index=False)"
      ]
    },
    {
      "cell_type": "markdown",
      "metadata": {
        "id": "KKYYj1et_w3k"
      },
      "source": [
        "## For gebrukte materialen 2010-2023 (used materials)\n"
      ]
    },
    {
      "cell_type": "code",
      "execution_count": null,
      "metadata": {
        "id": "mVlaIV95APOt"
      },
      "outputs": [],
      "source": [
        "#Data Volta gebruikte materialen 2010 2011 2012 2013 2014\n",
        "#file_path = './data/Data Volta gebruikte materialen 2010 2011 2012 2013 2014.xlsx'  # Update this to your file's path\n",
        "#df_usedmat2010to2014 = pd.read_excel(file_path, engine='openpyxl')  # Use 'xlrd' if your file is .xls"
      ]
    },
    {
      "cell_type": "code",
      "execution_count": null,
      "metadata": {
        "id": "jaQPLDWPAPOu"
      },
      "outputs": [],
      "source": [
        "#Data Volta gebruikte materialen 2015 2016 2017 2018 2019\n",
        "#file_path = './data/Data Volta gebruikte materialen 2015 2016 2017 2018 2019.xlsx'  # Update this to your file's path\n",
        "#df_usedmat2015to2019 = pd.read_excel(file_path, engine='openpyxl')  # Use 'xlrd' if your file is .xls"
      ]
    },
    {
      "cell_type": "code",
      "execution_count": null,
      "metadata": {
        "id": "SYrlpFw-APOu"
      },
      "outputs": [],
      "source": [
        "#Data Volta gebruikte materialen 2020 2021 2022 2023\n",
        "#file_path = './data/Data Volta gebruikte materialen 2020 2021 2022 2023.xlsx'  # Update this to your file's path\n",
        "#df_usedmat2020to2023 = pd.read_excel(file_path, engine='openpyxl')  # Use 'xlrd' if your file is .xls"
      ]
    },
    {
      "cell_type": "code",
      "execution_count": 38,
      "metadata": {
        "colab": {
          "base_uri": "https://localhost:8080/"
        },
        "id": "Yu3tnfLtR1YA",
        "metadata": {},
        "outputId": "fdee5353-741e-4ecc-d00f-e425c7373ab7"
      },
      "outputs": [
        {
          "name": "stdout",
          "output_type": "stream",
          "text": [
            "<class 'pandas.core.frame.DataFrame'>\n",
            "RangeIndex: 318968 entries, 0 to 318967\n",
            "Data columns (total 5 columns):\n",
            " #   Column       Non-Null Count   Dtype         \n",
            "---  ------       --------------   -----         \n",
            " 0   CALL_PREFIX  318968 non-null  int64         \n",
            " 1   CALL_SUFFIX  318968 non-null  int64         \n",
            " 2   USED_PROD    318968 non-null  object        \n",
            " 3   USED_QTY     318968 non-null  int64         \n",
            " 4   CREATE_DATE  318968 non-null  datetime64[ns]\n",
            "dtypes: datetime64[ns](1), int64(3), object(1)\n",
            "memory usage: 12.2+ MB\n",
            "<class 'pandas.core.frame.DataFrame'>\n",
            "RangeIndex: 610482 entries, 0 to 610481\n",
            "Data columns (total 5 columns):\n",
            " #   Column       Non-Null Count   Dtype         \n",
            "---  ------       --------------   -----         \n",
            " 0   CALL_PREFIX  610482 non-null  int64         \n",
            " 1   CALL_SUFFIX  610482 non-null  int64         \n",
            " 2   USED_PROD    610482 non-null  object        \n",
            " 3   USED_QTY     610482 non-null  int64         \n",
            " 4   CREATE_DATE  610482 non-null  datetime64[ns]\n",
            "dtypes: datetime64[ns](1), int64(3), object(1)\n",
            "memory usage: 23.3+ MB\n",
            "<class 'pandas.core.frame.DataFrame'>\n",
            "RangeIndex: 403068 entries, 0 to 403067\n",
            "Data columns (total 5 columns):\n",
            " #   Column       Non-Null Count   Dtype         \n",
            "---  ------       --------------   -----         \n",
            " 0   CALL_PREFIX  403068 non-null  int64         \n",
            " 1   CALL_SUFFIX  403068 non-null  int64         \n",
            " 2   USED_PROD    403068 non-null  object        \n",
            " 3   USED_QTY     403068 non-null  int64         \n",
            " 4   CREATE_DATE  403068 non-null  datetime64[ns]\n",
            "dtypes: datetime64[ns](1), int64(3), object(1)\n",
            "memory usage: 15.4+ MB\n"
          ]
        }
      ],
      "source": [
        "df_usedmat2010to2014.info()\n",
        "df_usedmat2015to2019.info()\n",
        "df_usedmat2020to2023.info()"
      ]
    },
    {
      "cell_type": "code",
      "execution_count": 39,
      "metadata": {
        "colab": {
          "base_uri": "https://localhost:8080/"
        },
        "id": "W363bFYfR06S",
        "metadata": {},
        "outputId": "fa984555-a2d1-4592-8c7b-8eeee06649d4"
      },
      "outputs": [
        {
          "name": "stdout",
          "output_type": "stream",
          "text": [
            "   CALL_PREFIX  CALL_SUFFIX         USED_PROD  USED_QTY CREATE_DATE\n",
            "0      2398657            1  ALG073865                2  2013-08-07\n",
            "1      2398657            1  ALG092132                1  2013-08-07\n",
            "2      2398657            1  ALG448011                1  2013-08-07\n",
            "3      2398657            1  ALG448011                2  2013-08-07\n",
            "4      2398657            1  ALG448011                2  2013-08-07\n"
          ]
        }
      ],
      "source": [
        "#stitching goes here\n",
        "df_usedmat_all= pd.concat([df_usedmat2010to2014, df_usedmat2015to2019, df_usedmat2020to2023], ignore_index=True)\n",
        "# Check the first few rows to ensure concatenation went as expected\n",
        "print(df_usedmat_all.head())"
      ]
    },
    {
      "cell_type": "markdown",
      "metadata": {
        "id": "zF5VwCX8Sn0B"
      },
      "source": [
        "cleaning and prep goes here\n"
      ]
    },
    {
      "cell_type": "code",
      "execution_count": 40,
      "metadata": {
        "id": "iusQ4ZNM_w3l",
        "metadata": {}
      },
      "outputs": [],
      "source": [
        "#check for duplicate rows\n",
        "df_usedmat_all = df_usedmat_all.drop_duplicates()"
      ]
    },
    {
      "cell_type": "code",
      "execution_count": 41,
      "metadata": {
        "id": "1GLLHFFKSsf7",
        "metadata": {}
      },
      "outputs": [],
      "source": [
        "#inspect and convert data types\n",
        "df_usedmat_all['CREATE_DATE'] = pd.to_datetime(df_usedmat_all['CREATE_DATE'])\n",
        "df_usedmat_all['USED_QTY'] = pd.to_numeric(df_usedmat_all['USED_QTY'], downcast='integer')"
      ]
    },
    {
      "cell_type": "code",
      "execution_count": 42,
      "metadata": {
        "id": "wwBEWlbTSywP",
        "metadata": {}
      },
      "outputs": [],
      "source": [
        "#validate and clean 'USED_PROD'\n",
        "df_usedmat_all['USED_PROD'] = df_usedmat_all['USED_PROD'].str.strip().str.upper()"
      ]
    },
    {
      "cell_type": "code",
      "execution_count": 43,
      "metadata": {
        "colab": {
          "base_uri": "https://localhost:8080/"
        },
        "id": "4O_GE7uyS4XM",
        "metadata": {},
        "outputId": "e0d6744f-9e94-498f-fc12-eb1ee0faa528"
      },
      "outputs": [
        {
          "name": "stdout",
          "output_type": "stream",
          "text": [
            "CALL_PREFIX    0\n",
            "CALL_SUFFIX    0\n",
            "USED_PROD      0\n",
            "USED_QTY       0\n",
            "CREATE_DATE    0\n",
            "dtype: int64\n"
          ]
        }
      ],
      "source": [
        "#handle missing values\n",
        "print(df_usedmat_all.isnull().sum())\n",
        "# Depending on the output, decide on the action. For instance, if missing values are in 'USED_QTY':\n",
        "df_usedmat_all.dropna(subset=['USED_QTY'], inplace=True)"
      ]
    },
    {
      "cell_type": "code",
      "execution_count": 44,
      "metadata": {
        "colab": {
          "base_uri": "https://localhost:8080/"
        },
        "id": "0IF_EOq1S-00",
        "metadata": {},
        "outputId": "0ad2725c-9a13-4760-91ea-c6faea5501f2"
      },
      "outputs": [
        {
          "name": "stdout",
          "output_type": "stream",
          "text": [
            "count    1.072622e+06\n",
            "mean     3.247407e+00\n",
            "std      7.843871e+01\n",
            "min      0.000000e+00\n",
            "25%      1.000000e+00\n",
            "50%      1.000000e+00\n",
            "75%      1.000000e+00\n",
            "max      3.730300e+04\n",
            "Name: USED_QTY, dtype: float64\n"
          ]
        }
      ],
      "source": [
        "#check for and resolve potential anomalies in USED QTY\n",
        "print(df_usedmat_all['USED_QTY'].describe())\n",
        "# Based on the output, decide if any action is needed. For example:\n",
        "# reasonable_upper_limit = ---\n",
        "# df_usedmat_all = df_usedmat_all[df_usedmat_all['USED_QTY'] <= reasonable_upper_limit]\n"
      ]
    },
    {
      "cell_type": "code",
      "execution_count": null,
      "metadata": {
        "id": "HuQrTPIhTeYW"
      },
      "outputs": [],
      "source": [
        "#could summarize repeated entries with this\n",
        "#df_usedmat_all = df_usedmat_all.groupby(['CALL_PREFIX', 'CALL_SUFFIX', 'USED_PROD', 'CREATE_DATE']).agg({'USED_QTY':'sum'}).reset_index()"
      ]
    },
    {
      "cell_type": "code",
      "execution_count": 45,
      "metadata": {
        "id": "9ZVedAmRTh1o",
        "metadata": {}
      },
      "outputs": [],
      "source": [
        "#verifying integrity of call ids\n",
        "df_usedmat_all['CALL_PREFIX'] = df_usedmat_all['CALL_PREFIX'].astype(int)\n",
        "df_usedmat_all['CALL_SUFFIX'] = df_usedmat_all['CALL_SUFFIX'].astype(int)\n"
      ]
    },
    {
      "cell_type": "code",
      "execution_count": null,
      "metadata": {
        "colab": {
          "base_uri": "https://localhost:8080/",
          "height": 415
        },
        "id": "1X1i_RmRTnXY",
        "outputId": "fcf0ca2b-0456-40c9-e62f-5fd378c920a3"
      },
      "outputs": [],
      "source": [
        "#final check\n",
        "df_usedmat_all.info()\n",
        "df_usedmat_all.head()"
      ]
    },
    {
      "cell_type": "code",
      "execution_count": 46,
      "metadata": {
        "id": "vG19nIgd_w3l",
        "metadata": {}
      },
      "outputs": [],
      "source": [
        "cleaned_file_path = './data/cleaned/materialen_cleaned_v1.parquet'\n",
        "df_usedmat_all.to_parquet(cleaned_file_path, index=False)"
      ]
    },
    {
      "cell_type": "code",
      "execution_count": 47,
      "metadata": {
        "colab": {
          "base_uri": "https://localhost:8080/",
          "height": 424
        },
        "id": "XgRchsihUAXC",
        "metadata": {},
        "outputId": "09b527ce-5808-41d1-e0b3-059ddab62e94"
      },
      "outputs": [
        {
          "data": {
            "text/html": [
              "<div>\n",
              "<style scoped>\n",
              "    .dataframe tbody tr th:only-of-type {\n",
              "        vertical-align: middle;\n",
              "    }\n",
              "\n",
              "    .dataframe tbody tr th {\n",
              "        vertical-align: top;\n",
              "    }\n",
              "\n",
              "    .dataframe thead th {\n",
              "        text-align: right;\n",
              "    }\n",
              "</style>\n",
              "<table border=\"1\" class=\"dataframe\">\n",
              "  <thead>\n",
              "    <tr style=\"text-align: right;\">\n",
              "      <th></th>\n",
              "      <th>CALL_PREFIX</th>\n",
              "      <th>CALL_SUFFIX</th>\n",
              "      <th>USED_PROD</th>\n",
              "      <th>USED_QTY</th>\n",
              "      <th>CREATE_DATE</th>\n",
              "    </tr>\n",
              "  </thead>\n",
              "  <tbody>\n",
              "    <tr>\n",
              "      <th>0</th>\n",
              "      <td>2398657</td>\n",
              "      <td>1</td>\n",
              "      <td>ALG073865</td>\n",
              "      <td>2</td>\n",
              "      <td>2013-08-07</td>\n",
              "    </tr>\n",
              "    <tr>\n",
              "      <th>1</th>\n",
              "      <td>2398657</td>\n",
              "      <td>1</td>\n",
              "      <td>ALG092132</td>\n",
              "      <td>1</td>\n",
              "      <td>2013-08-07</td>\n",
              "    </tr>\n",
              "    <tr>\n",
              "      <th>2</th>\n",
              "      <td>2398657</td>\n",
              "      <td>1</td>\n",
              "      <td>ALG448011</td>\n",
              "      <td>1</td>\n",
              "      <td>2013-08-07</td>\n",
              "    </tr>\n",
              "    <tr>\n",
              "      <th>3</th>\n",
              "      <td>2398657</td>\n",
              "      <td>1</td>\n",
              "      <td>ALG448011</td>\n",
              "      <td>2</td>\n",
              "      <td>2013-08-07</td>\n",
              "    </tr>\n",
              "    <tr>\n",
              "      <th>9</th>\n",
              "      <td>2398657</td>\n",
              "      <td>1</td>\n",
              "      <td>ALG561064</td>\n",
              "      <td>2</td>\n",
              "      <td>2013-08-07</td>\n",
              "    </tr>\n",
              "    <tr>\n",
              "      <th>...</th>\n",
              "      <td>...</td>\n",
              "      <td>...</td>\n",
              "      <td>...</td>\n",
              "      <td>...</td>\n",
              "      <td>...</td>\n",
              "    </tr>\n",
              "    <tr>\n",
              "      <th>1332513</th>\n",
              "      <td>5300854</td>\n",
              "      <td>1</td>\n",
              "      <td>ALG072446</td>\n",
              "      <td>1</td>\n",
              "      <td>2023-10-24</td>\n",
              "    </tr>\n",
              "    <tr>\n",
              "      <th>1332514</th>\n",
              "      <td>5300857</td>\n",
              "      <td>1</td>\n",
              "      <td>ALG062450</td>\n",
              "      <td>1</td>\n",
              "      <td>2023-10-30</td>\n",
              "    </tr>\n",
              "    <tr>\n",
              "      <th>1332515</th>\n",
              "      <td>5300857</td>\n",
              "      <td>1</td>\n",
              "      <td>VAI077846</td>\n",
              "      <td>1</td>\n",
              "      <td>2023-10-30</td>\n",
              "    </tr>\n",
              "    <tr>\n",
              "      <th>1332516</th>\n",
              "      <td>5300859</td>\n",
              "      <td>1</td>\n",
              "      <td>IGA000042628</td>\n",
              "      <td>1</td>\n",
              "      <td>2023-10-23</td>\n",
              "    </tr>\n",
              "    <tr>\n",
              "      <th>1332517</th>\n",
              "      <td>5300859</td>\n",
              "      <td>2</td>\n",
              "      <td>MAP000028</td>\n",
              "      <td>1</td>\n",
              "      <td>2023-10-27</td>\n",
              "    </tr>\n",
              "  </tbody>\n",
              "</table>\n",
              "<p>1072622 rows × 5 columns</p>\n",
              "</div>"
            ],
            "text/plain": [
              "         CALL_PREFIX  CALL_SUFFIX     USED_PROD  USED_QTY CREATE_DATE\n",
              "0            2398657            1     ALG073865         2  2013-08-07\n",
              "1            2398657            1     ALG092132         1  2013-08-07\n",
              "2            2398657            1     ALG448011         1  2013-08-07\n",
              "3            2398657            1     ALG448011         2  2013-08-07\n",
              "9            2398657            1     ALG561064         2  2013-08-07\n",
              "...              ...          ...           ...       ...         ...\n",
              "1332513      5300854            1     ALG072446         1  2023-10-24\n",
              "1332514      5300857            1     ALG062450         1  2023-10-30\n",
              "1332515      5300857            1     VAI077846         1  2023-10-30\n",
              "1332516      5300859            1  IGA000042628         1  2023-10-23\n",
              "1332517      5300859            2     MAP000028         1  2023-10-27\n",
              "\n",
              "[1072622 rows x 5 columns]"
            ]
          },
          "execution_count": 47,
          "metadata": {},
          "output_type": "execute_result"
        }
      ],
      "source": [
        "df_usedmat_all"
      ]
    },
    {
      "cell_type": "markdown",
      "metadata": {
        "id": "wcx4umMYAzvr"
      },
      "source": [
        "## For monteurbezoeken\n"
      ]
    },
    {
      "cell_type": "code",
      "execution_count": 48,
      "metadata": {
        "colab": {
          "base_uri": "https://localhost:8080/",
          "height": 313
        },
        "id": "CKSnFLhBHF6Y",
        "metadata": {},
        "outputId": "0700d8fe-a0d8-4db8-8d02-de4caee8cd4a"
      },
      "outputs": [
        {
          "data": {
            "text/html": [
              "<div>\n",
              "<style scoped>\n",
              "    .dataframe tbody tr th:only-of-type {\n",
              "        vertical-align: middle;\n",
              "    }\n",
              "\n",
              "    .dataframe tbody tr th {\n",
              "        vertical-align: top;\n",
              "    }\n",
              "\n",
              "    .dataframe thead th {\n",
              "        text-align: right;\n",
              "    }\n",
              "</style>\n",
              "<table border=\"1\" class=\"dataframe\">\n",
              "  <thead>\n",
              "    <tr style=\"text-align: right;\">\n",
              "      <th></th>\n",
              "      <th>CallnummerPre</th>\n",
              "      <th>CallnummerExt</th>\n",
              "      <th>LogDatum</th>\n",
              "      <th>STATUS</th>\n",
              "      <th>Lokatie</th>\n",
              "      <th>PRODUCT</th>\n",
              "      <th>UnitNo</th>\n",
              "      <th>CallType</th>\n",
              "      <th>PlanDatum</th>\n",
              "      <th>ContractNo</th>\n",
              "      <th>POSTCODE</th>\n",
              "      <th>Huisnummer</th>\n",
              "      <th>Omschrijving</th>\n",
              "      <th>OpmerkingMonteur</th>\n",
              "      <th>ProductOmschrijving</th>\n",
              "      <th>Merk</th>\n",
              "      <th>LijnAanduiding</th>\n",
              "      <th>bouwjaar</th>\n",
              "    </tr>\n",
              "  </thead>\n",
              "  <tbody>\n",
              "    <tr>\n",
              "      <th>0</th>\n",
              "      <td>4268244</td>\n",
              "      <td>1</td>\n",
              "      <td>2016-08-07</td>\n",
              "      <td>AFGESLOTEN</td>\n",
              "      <td>LO00482025</td>\n",
              "      <td>REM000090260</td>\n",
              "      <td>2005L51119879</td>\n",
              "      <td>OHKL</td>\n",
              "      <td>NaT</td>\n",
              "      <td>50109327</td>\n",
              "      <td>6105 CS</td>\n",
              "      <td>0008</td>\n",
              "      <td>ONDERHOUD KLEIN                               ...</td>\n",
              "      <td>NaN</td>\n",
              "      <td>REMEHA HRC AVANTA 28 C CW4                    ...</td>\n",
              "      <td>REMEHA</td>\n",
              "      <td>AVANTA</td>\n",
              "      <td>2005.0</td>\n",
              "    </tr>\n",
              "    <tr>\n",
              "      <th>1</th>\n",
              "      <td>4342562</td>\n",
              "      <td>1</td>\n",
              "      <td>2017-01-01</td>\n",
              "      <td>AFGESLOTEN</td>\n",
              "      <td>LO90000718</td>\n",
              "      <td>REM000090260</td>\n",
              "      <td>090186461059957121072750</td>\n",
              "      <td>OHKL</td>\n",
              "      <td>NaT</td>\n",
              "      <td>50113679</td>\n",
              "      <td>6215 TR</td>\n",
              "      <td>0065</td>\n",
              "      <td>ONDERHOUD KLEIN                               ...</td>\n",
              "      <td>EB in 2016 uitgevoerd                         ...</td>\n",
              "      <td>REMEHA HRC AVANTA 28 C CW4                    ...</td>\n",
              "      <td>REMEHA</td>\n",
              "      <td>AVANTA</td>\n",
              "      <td>2007.0</td>\n",
              "    </tr>\n",
              "    <tr>\n",
              "      <th>2</th>\n",
              "      <td>4322114</td>\n",
              "      <td>1</td>\n",
              "      <td>2017-02-19</td>\n",
              "      <td>BRIEF3</td>\n",
              "      <td>LO00483571</td>\n",
              "      <td>REM000090259</td>\n",
              "      <td>ZI00000061</td>\n",
              "      <td>OHGO</td>\n",
              "      <td>NaT</td>\n",
              "      <td>E0011895</td>\n",
              "      <td>6215 EX</td>\n",
              "      <td>0018-B</td>\n",
              "      <td>ONDERHOUD GROOT                               ...</td>\n",
              "      <td>NaN</td>\n",
              "      <td>REMEHA HRC AVANTA 24 C CW3                    ...</td>\n",
              "      <td>REMEHA</td>\n",
              "      <td>AVANTA</td>\n",
              "      <td>2013.0</td>\n",
              "    </tr>\n",
              "    <tr>\n",
              "      <th>3</th>\n",
              "      <td>4352471</td>\n",
              "      <td>1</td>\n",
              "      <td>2017-04-23</td>\n",
              "      <td>BRIEF3</td>\n",
              "      <td>LO00352964</td>\n",
              "      <td>REM000090259</td>\n",
              "      <td>2480762143</td>\n",
              "      <td>OHKL</td>\n",
              "      <td>NaT</td>\n",
              "      <td>E0011895</td>\n",
              "      <td>6227 CM</td>\n",
              "      <td>0050-E</td>\n",
              "      <td>ONDERHOUD KLEIN                               ...</td>\n",
              "      <td>NaN</td>\n",
              "      <td>REMEHA HRC AVANTA 24 C CW3                    ...</td>\n",
              "      <td>REMEHA</td>\n",
              "      <td>AVANTA</td>\n",
              "      <td>2006.0</td>\n",
              "    </tr>\n",
              "    <tr>\n",
              "      <th>4</th>\n",
              "      <td>4353657</td>\n",
              "      <td>1</td>\n",
              "      <td>2017-04-23</td>\n",
              "      <td>BRIEF3</td>\n",
              "      <td>LO00487008</td>\n",
              "      <td>REM000090260</td>\n",
              "      <td>1018600110828</td>\n",
              "      <td>OHKL</td>\n",
              "      <td>NaT</td>\n",
              "      <td>E0011895</td>\n",
              "      <td>6214 VG</td>\n",
              "      <td>0049</td>\n",
              "      <td>ONDERHOUD KLEIN                               ...</td>\n",
              "      <td>NaN</td>\n",
              "      <td>REMEHA HRC AVANTA 28 C CW4                    ...</td>\n",
              "      <td>REMEHA</td>\n",
              "      <td>AVANTA</td>\n",
              "      <td>2010.0</td>\n",
              "    </tr>\n",
              "  </tbody>\n",
              "</table>\n",
              "</div>"
            ],
            "text/plain": [
              "   CallnummerPre  CallnummerExt   LogDatum      STATUS     Lokatie  \\\n",
              "0        4268244              1 2016-08-07  AFGESLOTEN  LO00482025   \n",
              "1        4342562              1 2017-01-01  AFGESLOTEN  LO90000718   \n",
              "2        4322114              1 2017-02-19  BRIEF3      LO00483571   \n",
              "3        4352471              1 2017-04-23  BRIEF3      LO00352964   \n",
              "4        4353657              1 2017-04-23  BRIEF3      LO00487008   \n",
              "\n",
              "            PRODUCT                     UnitNo          CallType PlanDatum  \\\n",
              "0  REM000090260      2005L51119879              OHKL                   NaT   \n",
              "1  REM000090260      090186461059957121072750   OHKL                   NaT   \n",
              "2  REM000090259      ZI00000061                 OHGO                   NaT   \n",
              "3  REM000090259      2480762143                 OHKL                   NaT   \n",
              "4  REM000090260      1018600110828              OHKL                   NaT   \n",
              "\n",
              "     ContractNo              POSTCODE  Huisnummer  \\\n",
              "0  50109327      6105 CS               0008         \n",
              "1  50113679      6215 TR               0065         \n",
              "2  E0011895      6215 EX               0018-B       \n",
              "3  E0011895      6227 CM               0050-E       \n",
              "4  E0011895      6214 VG               0049         \n",
              "\n",
              "                                        Omschrijving  \\\n",
              "0  ONDERHOUD KLEIN                               ...   \n",
              "1  ONDERHOUD KLEIN                               ...   \n",
              "2  ONDERHOUD GROOT                               ...   \n",
              "3  ONDERHOUD KLEIN                               ...   \n",
              "4  ONDERHOUD KLEIN                               ...   \n",
              "\n",
              "                                    OpmerkingMonteur  \\\n",
              "0                                                NaN   \n",
              "1  EB in 2016 uitgevoerd                         ...   \n",
              "2                                                NaN   \n",
              "3                                                NaN   \n",
              "4                                                NaN   \n",
              "\n",
              "                                 ProductOmschrijving             Merk  \\\n",
              "0  REMEHA HRC AVANTA 28 C CW4                    ...  REMEHA            \n",
              "1  REMEHA HRC AVANTA 28 C CW4                    ...  REMEHA            \n",
              "2  REMEHA HRC AVANTA 24 C CW3                    ...  REMEHA            \n",
              "3  REMEHA HRC AVANTA 24 C CW3                    ...  REMEHA            \n",
              "4  REMEHA HRC AVANTA 28 C CW4                    ...  REMEHA            \n",
              "\n",
              "    LijnAanduiding  bouwjaar  \n",
              "0  AVANTA             2005.0  \n",
              "1  AVANTA             2007.0  \n",
              "2  AVANTA             2013.0  \n",
              "3  AVANTA             2006.0  \n",
              "4  AVANTA             2010.0  "
            ]
          },
          "execution_count": 48,
          "metadata": {},
          "output_type": "execute_result"
        }
      ],
      "source": [
        "df_monteursbezoeken.head()"
      ]
    },
    {
      "cell_type": "code",
      "execution_count": null,
      "metadata": {
        "colab": {
          "base_uri": "https://localhost:8080/"
        },
        "id": "Lgvd-V1EHEXg",
        "outputId": "b56da9af-3bea-4de6-e145-227083913a37"
      },
      "outputs": [],
      "source": [
        "df_monteursbezoeken.info()"
      ]
    },
    {
      "cell_type": "code",
      "execution_count": 49,
      "metadata": {
        "id": "SrBmOrwKHEUo",
        "metadata": {}
      },
      "outputs": [],
      "source": [
        "#cleaning and prep goes here\n",
        "df_monteursbezoeken.dropna(inplace=True)  # Drop rows with NaNs\n",
        "df_monteursbezoeken.rename(columns={\n",
        "                            'CallnummerPre': 'CallNumberPre',\n",
        "                            'CallnummerExt': 'CallNumberExt',\n",
        "                            'LogDatum': 'LogDate',\n",
        "                            'STATUS': 'STATUS',\n",
        "                            'Lokatie': 'Location',\n",
        "                            'PRODUCT': 'PRODUCT',\n",
        "                            'UnitNo': 'UnitNr',\n",
        "                            'CallType': 'CallType',\n",
        "                            'PlanDatum': 'PlanDate',\n",
        "                            'ContractNo': 'ContractNr',\n",
        "                            'POSTCODE': 'POSTCODE',\n",
        "                            'Huisnummer': 'HouseNr',\n",
        "                            'Omschrijving': 'Description',\n",
        "                            'OpmerkingMonteur': 'TechRemark',\n",
        "                            'ProductOmschrijving': 'ProductInfo',\n",
        "                            'Merk': 'Brand',\n",
        "                            'LijnAanduiding': 'LineIndication',\n",
        "                            'bouwjaar': 'YearOfConstruction'}, inplace=True)\n",
        "#made them english\n",
        "df_monteursbezoeken.drop(['Brand', 'LineIndication'], axis=1, inplace=True) #all of Brand is Rehema, all of lineindication is avanta, nothing novel from this"
      ]
    },
    {
      "cell_type": "code",
      "execution_count": null,
      "metadata": {
        "colab": {
          "base_uri": "https://localhost:8080/"
        },
        "id": "DMS-U70LHEOT",
        "outputId": "b69c2bf2-8e60-47f8-da96-da302e5a4a8d"
      },
      "outputs": [],
      "source": [
        "df_monteursbezoeken.info()"
      ]
    },
    {
      "cell_type": "code",
      "execution_count": null,
      "metadata": {
        "colab": {
          "base_uri": "https://localhost:8080/",
          "height": 1000
        },
        "id": "l8zsi3DOKM9G",
        "outputId": "634f31ac-3023-4f95-f201-13edc1598fe4"
      },
      "outputs": [],
      "source": [
        "df_monteursbezoeken"
      ]
    },
    {
      "cell_type": "code",
      "execution_count": 50,
      "metadata": {
        "id": "il0HWP7ZKM25",
        "metadata": {}
      },
      "outputs": [],
      "source": [
        "categorical_columns = ['STATUS', 'Location', 'PRODUCT', 'UnitNr', 'CallType', 'ContractNr', 'POSTCODE', 'HouseNr', 'ProductInfo']\n",
        "\n",
        "for column in categorical_columns:\n",
        "    df_monteursbezoeken[column] = df_monteursbezoeken[column].astype('category')\n"
      ]
    },
    {
      "cell_type": "code",
      "execution_count": 51,
      "metadata": {
        "id": "3ip7OTm-LC8q",
        "metadata": {}
      },
      "outputs": [],
      "source": [
        "# Fill NaN values with a placeholder value, e.g., -1, before conversion\n",
        "df_monteursbezoeken['YearOfConstruction'] = df_monteursbezoeken['YearOfConstruction'].fillna(-1).astype('int64')\n",
        "# Convert 'YearOfConstruction' from float64 to int64\n",
        "df_monteursbezoeken['YearOfConstruction'] = df_monteursbezoeken['YearOfConstruction'].astype('int64')"
      ]
    },
    {
      "cell_type": "code",
      "execution_count": 52,
      "metadata": {
        "id": "8UB5H3wZLgpA",
        "metadata": {}
      },
      "outputs": [],
      "source": [
        "df_monteursbezoeken['Location'] = df_monteursbezoeken['Location'].str.strip().str.lower()"
      ]
    },
    {
      "cell_type": "code",
      "execution_count": 53,
      "metadata": {
        "id": "oXbJRW16LvnG",
        "metadata": {}
      },
      "outputs": [],
      "source": [
        "df_monteursbezoeken = df_monteursbezoeken.drop_duplicates()"
      ]
    },
    {
      "cell_type": "code",
      "execution_count": 54,
      "metadata": {
        "id": "ZgRpBs07LukR",
        "metadata": {}
      },
      "outputs": [],
      "source": [
        "df_monteursbezoeken.reset_index(drop=True, inplace=True)"
      ]
    },
    {
      "cell_type": "code",
      "execution_count": null,
      "metadata": {
        "colab": {
          "base_uri": "https://localhost:8080/",
          "height": 1000
        },
        "id": "NLpMaoSDLy7t",
        "outputId": "cd13fe98-e99e-4f4a-a17f-a94bd53ab32d"
      },
      "outputs": [],
      "source": [
        "df_monteursbezoeken"
      ]
    },
    {
      "cell_type": "code",
      "execution_count": 55,
      "metadata": {
        "id": "wrdYqlTuAzvs",
        "metadata": {}
      },
      "outputs": [],
      "source": [
        "#cleaning and prep goes here\n",
        "df_monteursbezoeken_cleaned = df_monteursbezoeken"
      ]
    },
    {
      "cell_type": "code",
      "execution_count": 56,
      "metadata": {
        "id": "oHUDllO2Azvs",
        "metadata": {}
      },
      "outputs": [],
      "source": [
        "cleaned_file_path = './data/cleaned/monteursbezoeken_cleaned_v1.xlsx'  # Adjust path as needed\n",
        "df_monteursbezoeken_cleaned.to_excel(cleaned_file_path, index=False)\n"
      ]
    },
    {
      "cell_type": "markdown",
      "metadata": {
        "id": "-ntcLj3wAz90"
      },
      "source": [
        "## For toestellen\n"
      ]
    },
    {
      "cell_type": "code",
      "execution_count": 58,
      "metadata": {
        "colab": {
          "base_uri": "https://localhost:8080/"
        },
        "id": "LeHwl2eQMGwJ",
        "metadata": {},
        "outputId": "6cd5a756-3aba-4707-bbe6-d44f82362b66"
      },
      "outputs": [
        {
          "name": "stdout",
          "output_type": "stream",
          "text": [
            "<class 'pandas.core.frame.DataFrame'>\n",
            "RangeIndex: 3231 entries, 0 to 3230\n",
            "Data columns (total 26 columns):\n",
            " #   Column                         Non-Null Count  Dtype         \n",
            "---  ------                         --------------  -----         \n",
            " 0   product                        3231 non-null   object        \n",
            " 1   unit_no                        3231 non-null   object        \n",
            " 2   toestelfabrikant               3231 non-null   object        \n",
            " 3   Type_prod                      3231 non-null   object        \n",
            " 4   toestel                        3231 non-null   object        \n",
            " 5   ct                             3231 non-null   object        \n",
            " 6   contractnummer                 3231 non-null   object        \n",
            " 7   Part_Zak                       3231 non-null   object        \n",
            " 8   contracttype                   3231 non-null   object        \n",
            " 9   call_base_adres                3231 non-null   object        \n",
            " 10  call_base_postcode             3231 non-null   object        \n",
            " 11  call_base_plaats               3231 non-null   object        \n",
            " 12  call_base_huisnr               3231 non-null   object        \n",
            " 13  Datum_Inspanningsverplichting  3100 non-null   datetime64[ns]\n",
            " 14  OH_Status                      3100 non-null   object        \n",
            " 15  Volgend_OH                     3231 non-null   object        \n",
            " 16  bouwjaar                       3158 non-null   float64       \n",
            " 17  reference                      2936 non-null   object        \n",
            " 18  Conditie_toestel               2799 non-null   float64       \n",
            " 19  Conditie_Expansie_vat          2799 non-null   float64       \n",
            " 20  Conditie_Rookgasafvoer         2799 non-null   float64       \n",
            " 21  Conditie_Luchttoevoer          2799 non-null   float64       \n",
            " 22  Conditie_appendages            2799 non-null   float64       \n",
            " 23  OH_freq                        3226 non-null   object        \n",
            " 24  NEN_opmerking                  141 non-null    object        \n",
            " 25  Datum_Uitgevoerd_OH            3043 non-null   datetime64[ns]\n",
            "dtypes: datetime64[ns](2), float64(6), object(18)\n",
            "memory usage: 656.4+ KB\n"
          ]
        }
      ],
      "source": [
        "df_toestellen.info()"
      ]
    },
    {
      "cell_type": "code",
      "execution_count": 59,
      "metadata": {
        "id": "Lx5B_aZNMGuE",
        "metadata": {}
      },
      "outputs": [],
      "source": [
        "# Rename columns to English\n",
        "df_toestellen.rename(columns={\n",
        "    'product': 'Product',\n",
        "    'unit_no': 'Unit_Number',\n",
        "    'toestelfabrikant': 'Device_Manufacturer',\n",
        "    'Type_prod': 'Product_Type',\n",
        "    'toestel': 'Device',\n",
        "    'ct': 'CT',  # Type of contract\n",
        "    'contractnummer': 'Contract_Number',\n",
        "    'Part_Zak': 'Business_Part',  # Private/Business\n",
        "    'contracttype': 'Contract_Type',\n",
        "    'call_base_adres': 'Call_Base_Address',\n",
        "    'call_base_postcode': 'Call_Base_Postcode',\n",
        "    'call_base_plaats': 'Call_Base_Location',\n",
        "    'call_base_huisnr': 'Call_Base_House_Number',\n",
        "    'Datum_Inspanningsverplichting': 'Date_of_Obligation_Effort',\n",
        "    'OH_Status': 'Maintenance_Status',\n",
        "    'Volgend_OH': 'Next_Maintenance',\n",
        "    'bouwjaar': 'Year_of_Construction',\n",
        "    'reference': 'Reference',\n",
        "    'Conditie_toestel': 'Device_Condition',\n",
        "    'Conditie_Expansie_vat': 'Expansion_Tank_Condition',\n",
        "    'Conditie_Rookgasafvoer': 'Flue_Gas_Discharge_Condition',\n",
        "    'Conditie_Luchttoevoer': 'Air_Supply_Condition',\n",
        "    'Conditie_appendages': 'Appendages_Condition',\n",
        "    'OH_freq': 'Maintenance_Frequency',\n",
        "    'NEN_opmerking': 'NEN_Comment',\n",
        "    'Datum_Uitgevoerd_OH': 'Date_Maintenance_Performed'\n",
        "}, inplace=True)\n",
        "\n",
        "# Convert 'Year_of_Construction' to integer after filling NaN values\n",
        "df_toestellen['Year_of_Construction'] = df_toestellen['Year_of_Construction'].fillna(-1).astype(int)\n",
        "\n",
        "# Convert specified columns to categorical\n",
        "categorical_columns = [\n",
        "    'Device_Manufacturer',\n",
        "    'Product_Type',\n",
        "    'CT',  # Type of contract\n",
        "    'Contract_Type',\n",
        "    'Maintenance_Status',\n",
        "    'Maintenance_Frequency'\n",
        "]\n",
        "for column in categorical_columns:\n",
        "    df_toestellen[column] = df_toestellen[column].astype('category')\n",
        "\n",
        "# Check for and remove duplicates\n",
        "df_toestellen = df_toestellen.drop_duplicates()\n"
      ]
    },
    {
      "cell_type": "code",
      "execution_count": null,
      "metadata": {
        "colab": {
          "base_uri": "https://localhost:8080/"
        },
        "id": "Lklfri1ZMGrv",
        "outputId": "76047a58-5877-443d-c46c-bf3ede0af776"
      },
      "outputs": [],
      "source": [
        "df_toestellen.info()"
      ]
    },
    {
      "cell_type": "code",
      "execution_count": null,
      "metadata": {
        "colab": {
          "base_uri": "https://localhost:8080/",
          "height": 1000
        },
        "id": "8WSuyriuMGip",
        "outputId": "baf56f95-8858-4ff7-dd0b-319c7d63019e"
      },
      "outputs": [],
      "source": [
        "df_toestellen"
      ]
    },
    {
      "cell_type": "code",
      "execution_count": 61,
      "metadata": {
        "id": "V1lUWtKhAz90",
        "metadata": {}
      },
      "outputs": [],
      "source": [
        "#cleaning and prep goes here\n",
        "\n",
        "df_toestellen_cleaned = df_toestellen"
      ]
    },
    {
      "cell_type": "code",
      "execution_count": 62,
      "metadata": {
        "id": "MG8T8BJ9Az91",
        "metadata": {}
      },
      "outputs": [],
      "source": [
        "cleaned_file_path = './data/cleaned/toestellen_cleaned_v1.xlsx'  # Adjust path as needed\n",
        "df_toestellen_cleaned.to_excel(cleaned_file_path, index=False)"
      ]
    },
    {
      "cell_type": "markdown",
      "metadata": {},
      "source": [
        "# Merging all files"
      ]
    },
    {
      "cell_type": "code",
      "execution_count": 63,
      "metadata": {
        "colab": {
          "base_uri": "https://localhost:8080/"
        },
        "id": "Or5txBlYXJNa",
        "metadata": {},
        "outputId": "bcb69a61-76a0-4a8c-de1e-6390ada97b4e"
      },
      "outputs": [
        {
          "name": "stdout",
          "output_type": "stream",
          "text": [
            "            Product                Unit_Number Device_Manufacturer  \\\n",
            "0  REM000090260      0900194694110076499671914     REMEHA            \n",
            "1  REM000090260      0825405273110                 REMEHA            \n",
            "2  REM000090260      0825405273110                 REMEHA            \n",
            "3  REM000090260      0825405273110                 REMEHA            \n",
            "4  REM000090260      0904194703120076255071918     REMEHA            \n",
            "\n",
            "      Product_Type                                             Device  \\\n",
            "0  AVANTA           REMEHA HRC AVANTA 28 C CW4                    ...   \n",
            "1  AVANTA           REMEHA HRC AVANTA 28 C CW4                    ...   \n",
            "2  AVANTA           REMEHA HRC AVANTA 28 C CW4                    ...   \n",
            "3  AVANTA           REMEHA HRC AVANTA 28 C CW4                    ...   \n",
            "4  AVANTA           REMEHA HRC AVANTA 28 C CW4                    ...   \n",
            "\n",
            "           CT Contract_Number Business_Part                   Contract_Type  \\\n",
            "0  1205          50177908                 P  ESSENT BUDGET                    \n",
            "1  Z200          E0003367                 Z  ZAKELIJK COMFORT SERVICE         \n",
            "2  Z200          E0003367                 Z  ZAKELIJK COMFORT SERVICE         \n",
            "3  Z200          E0003367                 Z  ZAKELIJK COMFORT SERVICE         \n",
            "4  Z200          E0003367                 Z  ZAKELIJK COMFORT SERVICE         \n",
            "\n",
            "                          Call_Base_Address  ... YearOfConstruction  \\\n",
            "0  PASTOOR MAINSSTRAAT 7                     ...                NaN   \n",
            "1  KRUINWG 1-H24                             ...             2008.0   \n",
            "2  KRUINWG 1-H24                             ...             2008.0   \n",
            "3  KRUINWG 1-H24                             ...             2008.0   \n",
            "4  KRUINWG 1-H31                             ...             2019.0   \n",
            "\n",
            "  CALL_PREFIX_x CALL_SUFFIX_x FAULT_CODE CREATE_DATE_x CALL_PREFIX_y  \\\n",
            "0           NaN           NaN        NaN           NaT           NaN   \n",
            "1     4687492.0           1.0      17071    2019-09-20     4687492.0   \n",
            "2     4591984.0           1.0      24800    2019-11-27           NaN   \n",
            "3     4591984.0           1.0      30500    2019-11-27           NaN   \n",
            "4           NaN           NaN        NaN           NaT           NaN   \n",
            "\n",
            "   CALL_SUFFIX_y  USED_PROD  USED_QTY  CREATE_DATE_y  \n",
            "0            NaN        NaN       NaN            NaT  \n",
            "1            1.0  REM074054       1.0     2019-09-20  \n",
            "2            NaN        NaN       NaN            NaT  \n",
            "3            NaN        NaN       NaN            NaT  \n",
            "4            NaN        NaN       NaN            NaT  \n",
            "\n",
            "[5 rows x 50 columns]\n",
            "Merged DataFrame Shape: (8216, 50)\n"
          ]
        }
      ],
      "source": [
        "# Define file paths for data files\n",
        "file_path_adressen = './data/cleaned/adressen_cleaned_v1.xlsx'\n",
        "file_path_usedmat = './data/cleaned/materialen_cleaned_v1.parquet'\n",
        "file_path_foutcode = './data/cleaned/foutcodeall_cleaned_v1.parquet'\n",
        "file_path_monteurs = './data/cleaned/monteursbezoeken_cleaned_v1.xlsx'\n",
        "file_path_toestellen = './data/cleaned/toestellen_cleaned_v1.xlsx'\n",
        "\n",
        "# Read data files into DataFrames\n",
        "df_adressen_cleaned = pd.read_excel(file_path_adressen, engine='openpyxl')\n",
        "df_usedmat_all = pd.read_parquet(file_path_usedmat)\n",
        "df_foutcode_all_cleanedv1 = pd.read_parquet(file_path_foutcode)\n",
        "df_monteursbezoeken_cleaned = pd.read_excel(file_path_monteurs, engine='openpyxl')\n",
        "df_toestellen_cleaned = pd.read_excel(file_path_toestellen, engine='openpyxl')\n",
        "\n",
        "# Impute numerical condition fields with the median\n",
        "condition_fields = ['Device_Condition', 'Expansion_Tank_Condition', 'Flue_Gas_Discharge_Condition', 'Air_Supply_Condition', 'Appendages_Condition']\n",
        "for field in condition_fields:\n",
        "    df_toestellen_cleaned[field].dropna\n",
        "\n",
        "# Handle dates with a placeholder date (e.g., earliest date in dataset or a specific date)\n",
        "df_toestellen_cleaned['Date_of_Obligation_Effort'].dropna\n",
        "df_toestellen_cleaned['Date_Maintenance_Performed'].dropna\n",
        "\n",
        "# Drop the 'NEN_Comment' column if it's mostly missing\n",
        "df_toestellen_cleaned.drop(columns=['NEN_Comment'], inplace=True)\n",
        "\n",
        "# Impute 'Reference' with the mode (most common value)\n",
        "mode_value = df_toestellen_cleaned['Reference'].mode()[0]\n",
        "df_toestellen_cleaned['Reference'].dropna\n",
        "\n",
        "# Save cleaned DataFrame to a new Excel file\n",
        "df_toestellen_cleaned.to_excel('./data/cleaned/toestellen_cleaned_v2.xlsx', engine='openpyxl', index=False)\n",
        "file_path_toestellen2 = './data/cleaned/toestellen_cleaned_v2.xlsx'\n",
        "df_toestellen_cleaned = pd.read_excel(file_path_toestellen2, engine='openpyxl')\n",
        "\n",
        "# Handle missing values in 'Maintenance_Frequency' column\n",
        "df_toestellen_cleaned['Maintenance_Frequency'].dropna\n",
        "\n",
        "# Save cleaned DataFrame to another Excel file\n",
        "df_toestellen_cleaned.to_excel('./data/cleaned/toestellen_cleaned_v3.xlsx', engine='openpyxl', index=False)\n",
        "file_path_toestellen3 = './data/cleaned/toestellen_cleaned_v3.xlsx'\n",
        "df_toestellen_cleaned = pd.read_excel(file_path_toestellen3, engine='openpyxl')\n",
        "\n",
        "# Merge Devices DataFrame with Technician Visits on 'Unit_Number' and 'UnitNr'\n",
        "df_merged = pd.merge(df_toestellen_cleaned, df_monteursbezoeken_cleaned, left_on='Unit_Number', right_on='UnitNr', how='left')\n",
        "\n",
        "# Merge the resulting DataFrame with Fault Codes on 'CallNumberPre' and 'CALL_PREFIX'\n",
        "df_merged = pd.merge(df_merged, df_foutcode_all_cleanedv1, left_on='CallNumberPre', right_on='CALL_PREFIX', how='left')\n",
        "\n",
        "# Further merge with Used Materials on 'CallNumberPre' and 'CALL_PREFIX'\n",
        "df_merged = pd.merge(df_merged, df_usedmat_all, left_on='CallNumberPre', right_on='CALL_PREFIX', how='left')\n",
        "\n",
        "# Review the first few entries to ensure the merges were successful\n",
        "print(df_merged.head())\n",
        "\n",
        "# Optionally, check the size of the merged DataFrame to understand the extent of matching records\n",
        "print(\"Merged DataFrame Shape:\", df_merged.shape)\n",
        "\n",
        "# Drop duplicate or unnecessary columns\n",
        "df_merged_cleaned = df_merged.drop(columns=['CALL_PREFIX_y', 'CALL_SUFFIX_y', 'CREATE_DATE_y'])\n",
        "\n",
        "# Optionally, rename columns for clarity\n",
        "df_merged_cleaned.rename(columns={'CALL_PREFIX_x': 'CALL_PREFIX', 'CALL_SUFFIX_x': 'CALL_SUFFIX', 'CREATE_DATE_x': 'CREATE_DATE'}, inplace=True)\n",
        "\n",
        "# Drop duplicate rows\n",
        "df_merged_cleaned.drop_duplicates(inplace=True)\n",
        "\n",
        "# Filter out rows with negative 'Year_of_Construction'\n",
        "df_merged_cleaned = df_merged_cleaned[df_merged_cleaned['Year_of_Construction'] >= 0]\n",
        "\n",
        "# Create a new column to indicate missing 'CALL_PREFIX'\n",
        "df_merged_cleaned['CALL_PREFIX_missing'] = df_merged_cleaned['CALL_PREFIX'].isnull()\n",
        "\n",
        "# Create separate DataFrames for analysis\n",
        "missing_call_prefix_df = df_merged_cleaned[df_merged_cleaned['CALL_PREFIX_missing']]\n",
        "analysis_df = df_merged_cleaned.dropna(subset=['CALL_PREFIX'])\n",
        "critical_analysis_df = df_merged_cleaned[df_merged_cleaned['CALL_PREFIX'].notna()]\n",
        "\n",
        "# Drop columns that are not needed for critical analysis\n",
        "columns_to_drop = ['Product_Type', 'Maintenance_Status', 'CALL_PREFIX_missing', 'USED_QTY', 'USED_PROD', 'YearOfConstruction', 'ProductInfo']\n",
        "critical_analysis_df = critical_analysis_df.drop(columns=columns_to_drop, axis=1)"
      ]
    },
    {
      "cell_type": "code",
      "execution_count": 67,
      "metadata": {
        "id": "MJ2VozkCcWMH",
        "metadata": {}
      },
      "outputs": [],
      "source": [
        "critical_analysis_df = critical_analysis_df.dropna()\n",
        "critical_analysis_df = critical_analysis_df[~critical_analysis_df['STATUS'].isin(['SUCCESVOL', 'SUCCESVOL ', 'NSUCCESVOL'])]\n",
        "critical_analysis_df.to_csv('./agressively_cleaned_critical_analysis_df.csv', index=False)\n"
      ]
    }
  ],
  "metadata": {
    "colab": {
      "provenance": []
    },
    "kernelspec": {
      "display_name": "Python 3",
      "name": "python3"
    },
    "language_info": {
      "codemirror_mode": {
        "name": "ipython",
        "version": 3
      },
      "file_extension": ".py",
      "mimetype": "text/x-python",
      "name": "python",
      "nbconvert_exporter": "python",
      "pygments_lexer": "ipython3",
      "version": "3.12.3"
    }
  },
  "nbformat": 4,
  "nbformat_minor": 0
}
